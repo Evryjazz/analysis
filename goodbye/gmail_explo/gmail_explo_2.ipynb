{
 "cells": [
  {
   "cell_type": "code",
   "execution_count": 10,
   "metadata": {
    "collapsed": true
   },
   "outputs": [],
   "source": [
    "from imaplib import IMAP4_SSL\n",
    "from datetime import date,timedelta,datetime\n",
    "from time import mktime\n",
    "from email.utils import parsedate\n",
    "from pylab import plot_date,show,xticks,date2num\n",
    "from pylab import figure,hist,num2date\n",
    "from matplotlib.dates import DateFormatter"
   ]
  },
  {
   "cell_type": "code",
   "execution_count": 11,
   "metadata": {
    "collapsed": true
   },
   "outputs": [],
   "source": [
    "def getHeaders(address,password,folder,d):\n",
    " \"\"\" retrieve the headers of the emails \n",
    "     from d days ago until now \"\"\"\n",
    " # imap connection\n",
    " mail = IMAP4_SSL('imap.gmail.com')\n",
    " mail.login(address,password)\n",
    " mail.select(folder) \n",
    " # retrieving the uids\n",
    " interval = (date.today() - timedelta(d)).strftime(\"%d-%b-%Y\")\n",
    " result, data = mail.uid('search', None, \n",
    "                      '(SENTSINCE {date})'.format(date=interval))\n",
    " # retrieving the headers\n",
    " result, data = mail.uid('fetch', data[0].replace(' ',','), \n",
    "                         '(BODY[HEADER.FIELDS (DATE)])')\n",
    " mail.close()\n",
    " mail.logout()\n",
    " return data"
   ]
  },
  {
   "cell_type": "code",
   "execution_count": 12,
   "metadata": {
    "collapsed": true
   },
   "outputs": [],
   "source": [
    "def diurnalPlot(headers):\n",
    " \"\"\" diurnal plot of the emails, \n",
    "     with years running along the x axis \n",
    "     and times of day on the y axis.\n",
    " \"\"\"\n",
    " xday = []\n",
    " ytime = []\n",
    " for h in headers: \n",
    "  if len(h) > 1:\n",
    "   timestamp = mktime(parsedate(h[1][5:].replace('.',':')))\n",
    "   mailstamp = datetime.fromtimestamp(timestamp)\n",
    "   xday.append(mailstamp)\n",
    "   # Time the email is arrived\n",
    "   # Note that years, month and day are not important here.\n",
    "   y = datetime(2010,10,14, \n",
    "     mailstamp.hour, mailstamp.minute, mailstamp.second)\n",
    "   ytime.append(y)\n",
    "\n",
    " plot_date(xday,ytime,'.',alpha=.7)\n",
    " xticks(rotation=30)\n",
    " return xday,ytime "
   ]
  },
  {
   "cell_type": "code",
   "execution_count": 13,
   "metadata": {
    "collapsed": true
   },
   "outputs": [],
   "source": [
    "def dailyDistributioPlot(ytime):\n",
    " \"\"\" draw the histogram of the daily distribution \"\"\"\n",
    " # converting dates to numbers\n",
    " numtime = [date2num(t) for t in ytime] \n",
    " # plotting the histogram\n",
    " ax = figure().gca()\n",
    " _, _, patches = hist(numtime, bins=24,alpha=.5)\n",
    " # adding the labels for the x axis\n",
    " tks = [num2date(p.get_x()) for p in patches] \n",
    " xticks(tks,rotation=75)\n",
    " # formatting the dates on the x axis\n",
    " ax.xaxis.set_major_formatter(DateFormatter('%H:%M'))"
   ]
  },
  {
   "cell_type": "code",
   "execution_count": 14,
   "metadata": {
    "collapsed": false
   },
   "outputs": [
    {
     "name": "stdout",
     "output_type": "stream",
     "text": [
      "Fetching emails...\n",
      "Plotting some statistics...\n"
     ]
    },
    {
     "ename": "TypeError",
     "evalue": "argument must be 9-item sequence, not None",
     "output_type": "error",
     "traceback": [
      "\u001b[0;31m---------------------------------------------------------------------------\u001b[0m",
      "\u001b[0;31mTypeError\u001b[0m                                 Traceback (most recent call last)",
      "\u001b[0;32m<ipython-input-14-1bb49a20e5d3>\u001b[0m in \u001b[0;36m<module>\u001b[0;34m()\u001b[0m\n\u001b[1;32m      4\u001b[0m \u001b[0;34m\u001b[0m\u001b[0m\n\u001b[1;32m      5\u001b[0m \u001b[0;32mprint\u001b[0m \u001b[0;34m'Plotting some statistics...'\u001b[0m\u001b[0;34m\u001b[0m\u001b[0m\n\u001b[0;32m----> 6\u001b[0;31m \u001b[0mxday\u001b[0m\u001b[0;34m,\u001b[0m\u001b[0mytime\u001b[0m \u001b[0;34m=\u001b[0m \u001b[0mdiurnalPlot\u001b[0m\u001b[0;34m(\u001b[0m\u001b[0mheaders\u001b[0m\u001b[0;34m)\u001b[0m\u001b[0;34m\u001b[0m\u001b[0m\n\u001b[0m\u001b[1;32m      7\u001b[0m \u001b[0mdailyDistributioPlot\u001b[0m\u001b[0;34m(\u001b[0m\u001b[0mytime\u001b[0m\u001b[0;34m)\u001b[0m\u001b[0;34m\u001b[0m\u001b[0m\n\u001b[1;32m      8\u001b[0m \u001b[0;32mprint\u001b[0m \u001b[0mlen\u001b[0m\u001b[0;34m(\u001b[0m\u001b[0mxday\u001b[0m\u001b[0;34m)\u001b[0m\u001b[0;34m,\u001b[0m\u001b[0;34m'Emails analysed.'\u001b[0m\u001b[0;34m\u001b[0m\u001b[0m\n",
      "\u001b[0;32m<ipython-input-12-c4ed449fe1a4>\u001b[0m in \u001b[0;36mdiurnalPlot\u001b[0;34m(headers)\u001b[0m\n\u001b[1;32m      8\u001b[0m  \u001b[0;32mfor\u001b[0m \u001b[0mh\u001b[0m \u001b[0;32min\u001b[0m \u001b[0mheaders\u001b[0m\u001b[0;34m:\u001b[0m\u001b[0;34m\u001b[0m\u001b[0m\n\u001b[1;32m      9\u001b[0m   \u001b[0;32mif\u001b[0m \u001b[0mlen\u001b[0m\u001b[0;34m(\u001b[0m\u001b[0mh\u001b[0m\u001b[0;34m)\u001b[0m \u001b[0;34m>\u001b[0m \u001b[0;36m1\u001b[0m\u001b[0;34m:\u001b[0m\u001b[0;34m\u001b[0m\u001b[0m\n\u001b[0;32m---> 10\u001b[0;31m    \u001b[0mtimestamp\u001b[0m \u001b[0;34m=\u001b[0m \u001b[0mmktime\u001b[0m\u001b[0;34m(\u001b[0m\u001b[0mparsedate\u001b[0m\u001b[0;34m(\u001b[0m\u001b[0mh\u001b[0m\u001b[0;34m[\u001b[0m\u001b[0;36m1\u001b[0m\u001b[0;34m]\u001b[0m\u001b[0;34m[\u001b[0m\u001b[0;36m5\u001b[0m\u001b[0;34m:\u001b[0m\u001b[0;34m]\u001b[0m\u001b[0;34m.\u001b[0m\u001b[0mreplace\u001b[0m\u001b[0;34m(\u001b[0m\u001b[0;34m'.'\u001b[0m\u001b[0;34m,\u001b[0m\u001b[0;34m':'\u001b[0m\u001b[0;34m)\u001b[0m\u001b[0;34m)\u001b[0m\u001b[0;34m)\u001b[0m\u001b[0;34m\u001b[0m\u001b[0m\n\u001b[0m\u001b[1;32m     11\u001b[0m    \u001b[0mmailstamp\u001b[0m \u001b[0;34m=\u001b[0m \u001b[0mdatetime\u001b[0m\u001b[0;34m.\u001b[0m\u001b[0mfromtimestamp\u001b[0m\u001b[0;34m(\u001b[0m\u001b[0mtimestamp\u001b[0m\u001b[0;34m)\u001b[0m\u001b[0;34m\u001b[0m\u001b[0m\n\u001b[1;32m     12\u001b[0m    \u001b[0mxday\u001b[0m\u001b[0;34m.\u001b[0m\u001b[0mappend\u001b[0m\u001b[0;34m(\u001b[0m\u001b[0mmailstamp\u001b[0m\u001b[0;34m)\u001b[0m\u001b[0;34m\u001b[0m\u001b[0m\n",
      "\u001b[0;31mTypeError\u001b[0m: argument must be 9-item sequence, not None"
     ]
    }
   ],
   "source": [
    "print 'Fetching emails...'\n",
    "headers = getHeaders('julien@wasabi-analytics.com',\n",
    "                      'rangsit508wasabi2013','inbox',365*5) #or [Gmail]/Sent Mail \n",
    "\n",
    "print 'Plotting some statistics...'\n",
    "xday,ytime = diurnalPlot(headers)\n",
    "dailyDistributioPlot(ytime)\n",
    "print len(xday),'Emails analysed.'\n",
    "show()"
   ]
  },
  {
   "cell_type": "code",
   "execution_count": null,
   "metadata": {
    "collapsed": true
   },
   "outputs": [],
   "source": []
  }
 ],
 "metadata": {
  "kernelspec": {
   "display_name": "Python 2",
   "language": "python",
   "name": "python2"
  },
  "language_info": {
   "codemirror_mode": {
    "name": "ipython",
    "version": 2
   },
   "file_extension": ".py",
   "mimetype": "text/x-python",
   "name": "python",
   "nbconvert_exporter": "python",
   "pygments_lexer": "ipython2",
   "version": "2.7.9"
  }
 },
 "nbformat": 4,
 "nbformat_minor": 0
}
