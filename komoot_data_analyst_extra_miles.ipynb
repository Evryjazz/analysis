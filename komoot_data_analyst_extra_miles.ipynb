{
 "cells": [
  {
   "cell_type": "markdown",
   "metadata": {},
   "source": [
    "# `Komoot Data Analyst Extra Miles`"
   ]
  },
  {
   "cell_type": "markdown",
   "metadata": {},
   "source": [
    "> #### This small analysis aims to estimate if the sentiment of the last tweets mentionning 'komoot' are rather positive or negative.<br>\n",
    "> #### In order to do that, we will: \n",
    "> - scrap the latest tweet mentionning 'komoot' using selenium\n",
    "> - estimate the sentiment around 'komoot' thanks to the textblob package"
   ]
  },
  {
   "cell_type": "code",
   "execution_count": 1,
   "metadata": {
    "collapsed": true
   },
   "outputs": [],
   "source": [
    "# library import\n",
    "import time\n",
    "from selenium import webdriver\n",
    "from selenium.webdriver.common.keys import Keys\n",
    "import pandas as pd\n",
    "from textblob import TextBlob\n",
    "import matplotlib as plt\n",
    "\n",
    "%matplotlibplotlib inline"
   ]
  },
  {
   "cell_type": "code",
   "execution_count": 3,
   "metadata": {
    "collapsed": false
   },
   "outputs": [],
   "source": [
    "browser = webdriver.Chrome()"
   ]
  },
  {
   "cell_type": "code",
   "execution_count": 39,
   "metadata": {
    "collapsed": true
   },
   "outputs": [],
   "source": [
    "base_url = u'https://twitter.com/search?q='\n",
    "query = u'komoot&src=typd'\n",
    "url = base_url + query"
   ]
  },
  {
   "cell_type": "code",
   "execution_count": 40,
   "metadata": {
    "collapsed": true
   },
   "outputs": [],
   "source": [
    "browser.get(url)\n",
    "\n",
    "time.sleep(1)"
   ]
  },
  {
   "cell_type": "code",
   "execution_count": 41,
   "metadata": {
    "collapsed": true
   },
   "outputs": [],
   "source": [
    "browser.execute_script(\"window.scrollTo(0, document.body.scrollHeight);\")\n",
    "\n",
    "for _ in range(500):\n",
    "    browser.execute_script(\"window.scrollTo(0, document.body.scrollHeight);\")\n",
    "    time.sleep(0.2)"
   ]
  },
  {
   "cell_type": "code",
   "execution_count": 42,
   "metadata": {
    "collapsed": true
   },
   "outputs": [],
   "source": [
    "tweets = browser.find_elements_by_class_name('tweet-text')"
   ]
  },
  {
   "cell_type": "code",
   "execution_count": 43,
   "metadata": {
    "collapsed": false
   },
   "outputs": [],
   "source": [
    "df_tmp = pd.DataFrame(columns=['text', 'polarity', 'subjectivity'])\n",
    "for tweet in tweets:\n",
    "    analysis = TextBlob(tweet.text)\n",
    "    df_data = {'text': tweet.text, 'polarity' : analysis.sentiment.polarity, 'subjectivity' : analysis.sentiment.subjectivity}\n",
    "    df_tmp = df_tmp.append(df_data, ignore_index = True)"
   ]
  },
  {
   "cell_type": "code",
   "execution_count": 44,
   "metadata": {
    "collapsed": false
   },
   "outputs": [
    {
     "data": {
      "text/html": [
       "<div>\n",
       "<table border=\"1\" class=\"dataframe\">\n",
       "  <thead>\n",
       "    <tr style=\"text-align: right;\">\n",
       "      <th></th>\n",
       "      <th>text</th>\n",
       "      <th>polarity</th>\n",
       "      <th>subjectivity</th>\n",
       "    </tr>\n",
       "  </thead>\n",
       "  <tbody>\n",
       "    <tr>\n",
       "      <th>0</th>\n",
       "      <td>Will the @GarminUK Vivoactive 3 Music every ge...</td>\n",
       "      <td>0.000000</td>\n",
       "      <td>0.000000</td>\n",
       "    </tr>\n",
       "    <tr>\n",
       "      <th>1</th>\n",
       "      <td>Hi Phil, this is currently not possible becaus...</td>\n",
       "      <td>0.333333</td>\n",
       "      <td>0.633333</td>\n",
       "    </tr>\n",
       "    <tr>\n",
       "      <th>2</th>\n",
       "      <td>Hi Steven, which app version are you using - i...</td>\n",
       "      <td>1.000000</td>\n",
       "      <td>0.300000</td>\n",
       "    </tr>\n",
       "    <tr>\n",
       "      <th>3</th>\n",
       "      <td>Bye bye Canary Islands   See you next time for...</td>\n",
       "      <td>-0.100000</td>\n",
       "      <td>0.250000</td>\n",
       "    </tr>\n",
       "    <tr>\n",
       "      <th>4</th>\n",
       "      <td>Super dupa woooo hoooo. Go, go Jenny</td>\n",
       "      <td>0.333333</td>\n",
       "      <td>0.666667</td>\n",
       "    </tr>\n",
       "  </tbody>\n",
       "</table>\n",
       "</div>"
      ],
      "text/plain": [
       "                                                text  polarity  subjectivity\n",
       "0  Will the @GarminUK Vivoactive 3 Music every ge...  0.000000      0.000000\n",
       "1  Hi Phil, this is currently not possible becaus...  0.333333      0.633333\n",
       "2  Hi Steven, which app version are you using - i...  1.000000      0.300000\n",
       "3  Bye bye Canary Islands   See you next time for... -0.100000      0.250000\n",
       "4               Super dupa woooo hoooo. Go, go Jenny  0.333333      0.666667"
      ]
     },
     "execution_count": 44,
     "metadata": {},
     "output_type": "execute_result"
    }
   ],
   "source": [
    "df_tmp.head()"
   ]
  },
  {
   "cell_type": "code",
   "execution_count": 49,
   "metadata": {
    "collapsed": false
   },
   "outputs": [
    {
     "name": "stdout",
     "output_type": "stream",
     "text": [
      "Relying on the last 40 tweets mentioning komoot, the polarity median is 0.27\n"
     ]
    },
    {
     "data": {
      "image/png": "[encoded data removed]",
      "text/plain": [
       "<matplotlib.figure.Figure at 0x10c88a510>"
      ]
     },
     "metadata": {},
     "output_type": "display_data"
    }
   ],
   "source": [
    "df_tmp.polarity.plot.box()\n",
    "print('Relying on the last ' + str(df_tmp.text.count()) + ' tweets mentioning komoot, the polarity median is ' + str(round(df_tmp.polarity.median(), 2)))"
   ]
  },
  {
   "cell_type": "markdown",
   "metadata": {},
   "source": [
    "### `Insights`\n",
    "> - A median polarity around 0.3 for the last 40 tweets tends to demonstrate positive feelings around Komoot on Twitter!"
   ]
  },
  {
   "cell_type": "code",
   "execution_count": 53,
   "metadata": {
    "collapsed": false
   },
   "outputs": [
    {
     "name": "stdout",
     "output_type": "stream",
     "text": [
      "Vielen Dank für Ihre Zeit, ich hoffe, dass Sie die Gelegenheit haben, eine Diskussion mit Ihnen zu teilen!\n"
     ]
    }
   ],
   "source": [
    "byebye = TextBlob(\"Thank you for your time, I hope to get the chance to share a discussion with you!\")\n",
    "print(byebye.translate(to='de'))"
   ]
  }
 ],
 "metadata": {
  "kernelspec": {
   "display_name": "Python 2",
   "language": "python",
   "name": "python2"
  },
  "language_info": {
   "codemirror_mode": {
    "name": "ipython",
    "version": 2
   },
   "file_extension": ".py",
   "mimetype": "text/x-python",
   "name": "python",
   "nbconvert_exporter": "python",
   "pygments_lexer": "ipython2",
   "version": "2.7.8"
  }
 },
 "nbformat": 4,
 "nbformat_minor": 0
}
