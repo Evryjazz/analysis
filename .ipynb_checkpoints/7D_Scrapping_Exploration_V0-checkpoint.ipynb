{
 "cells": [
  {
   "cell_type": "markdown",
   "metadata": {},
   "source": [
    "###**The final idea is to get an 'LBC market price' for canon 7D body only**"
   ]
  },
  {
   "cell_type": "markdown",
   "metadata": {},
   "source": [
    "> **Scope**: *Ile de France*"
   ]
  },
  {
   "cell_type": "markdown",
   "metadata": {},
   "source": [
    "***Articles/Ressources that help me along the way***\n",
    "- [Git repo: JM Portilla Web Scraping Tuto](https://github.com/jmportilla/Web-Scraping/blob/master/Web%20Scraping.ipynb)\n",
    "- [Article: Querying Craiglist](http://predictablynoisy.com/querying-craigslist-with-python/)\n",
    "- [Article: Quick Craiglist Data Analysis](http://predictablynoisy.com/quick-craigslist-data-analysis/)\n",
    "- Useful Links:\n",
    "    - http://stackoverflow.com/questions/16835449/python-beautifulsoup-extract-text-between-element#\n",
    "- [Formating IPython Notebook with Markdown¶](https://github.com/adam-p/markdown-here/wiki/Markdown-Cheatsheet#videos)\n",
    "- [Scraping multiple pages for parsing in Beautiful Soup](http://stackoverflow.com/questions/8334805/scraping-multiple-pages-for-parsing-in-beautiful-soup)"
   ]
  },
  {
   "cell_type": "code",
   "execution_count": 47,
   "metadata": {
    "collapsed": true
   },
   "outputs": [],
   "source": [
    "# Libraries export\n",
    "from bs4 import BeautifulSoup\n",
    "import requests\n",
    "\n",
    "import pandas as pd\n",
    "from pandas import Series, DataFrame\n",
    "\n",
    "# regex module\n",
    "import re"
   ]
  },
  {
   "cell_type": "code",
   "execution_count": 102,
   "metadata": {
    "collapsed": false
   },
   "outputs": [],
   "source": [
    "# Méthode pas très classe, à reprendre\n",
    "page_number = ['1', '2', '3', '4', '5', '6', '7', '8']\n",
    "data = []\n",
    "\n",
    "for numb in page_number:\n",
    "    url = 'https://www.leboncoin.fr/annonces/offres/ile_de_france/occasions/?o=' + numb + '&q=canon+7D'\n",
    "    result = requests.get(url)\n",
    "    c = result.content\n",
    "    soup = BeautifulSoup(c)\n",
    "    summary = soup.findAll(True, {'class':['title', 'price']})\n",
    "    for content in summary:\n",
    "        purchase_info = content.contents[0].strip()\n",
    "        data.append(purchase_info)"
   ]
  },
  {
   "cell_type": "code",
   "execution_count": 49,
   "metadata": {
    "collapsed": false
   },
   "outputs": [],
   "source": [
    "#url = 'https://www.leboncoin.fr/annonces/offres/ile_de_france/occasions/?o=1&q=canon+7D'\n",
    "\n",
    "# Request content from web page\n",
    "#result = requests.get(url)\n",
    "#c = result.content\n",
    "\n",
    "# Set as Beautiful Soup Object\n",
    "#soup = BeautifulSoup(c)\n",
    "\n",
    "# Take all title and price tag\n",
    "#summary = soup.findAll(True, {'class':['title', 'price']})"
   ]
  },
  {
   "cell_type": "code",
   "execution_count": 50,
   "metadata": {
    "collapsed": false
   },
   "outputs": [],
   "source": [
    "#for content in summary:\n",
    "#    print content.contents[0].strip()"
   ]
  },
  {
   "cell_type": "code",
   "execution_count": 51,
   "metadata": {
    "collapsed": false
   },
   "outputs": [],
   "source": [
    "# Set up empty data list\n",
    "#data = []\n",
    "\n",
    "#for content in summary:\n",
    "    #purchase_info = content.contents[0].strip()\n",
    "    #data.append(purchase_info)"
   ]
  },
  {
   "cell_type": "code",
   "execution_count": 52,
   "metadata": {
    "collapsed": false
   },
   "outputs": [
    {
     "data": {
      "text/plain": [
       "list"
      ]
     },
     "execution_count": 52,
     "metadata": {},
     "output_type": "execute_result"
    }
   ],
   "source": [
    "type(data)"
   ]
  },
  {
   "cell_type": "code",
   "execution_count": 77,
   "metadata": {
    "collapsed": false,
    "scrolled": true
   },
   "outputs": [
    {
     "data": {
      "text/plain": [
       "[u'Sigma 120-300 f2.8 EX HSM OS+Sigma 1.4+Canon 7D',\n",
       " u'1 300\\xa0\\u20ac',\n",
       " u'Canon EOS 7D + 24-105 f4',\n",
       " u'950\\xa0\\u20ac',\n",
       " u'CANON 5D Mark III Garantie FNAC 1 AN',\n",
       " u'2 000\\xa0\\u20ac',\n",
       " u'Canon EOS 7 D boitier',\n",
       " u'550\\xa0\\u20ac',\n",
       " u'Nouveau Canon EF 100-400mm f/4.5-5.6L IS mark 2 II',\n",
       " u'1 750\\xa0\\u20ac']"
      ]
     },
     "execution_count": 77,
     "metadata": {},
     "output_type": "execute_result"
    }
   ],
   "source": [
    "data[:10]"
   ]
  },
  {
   "cell_type": "code",
   "execution_count": 55,
   "metadata": {
    "collapsed": false
   },
   "outputs": [],
   "source": [
    "# Function to check if there is a number in the string\n",
    "# http://stackoverflow.com/questions/19859282/check-if-a-string-contains-a-number\n",
    "# def num_there(s):\n",
    "#    return any(i.isdigit() for i in s)\n",
    "\n",
    "\n",
    "# https://www.udemy.com/learning-python-for-data-analysis-and-visualization/learn/#/lecture/2819010\n",
    "\n",
    "# Set up empty lists\n",
    "title = []\n",
    "price = []\n",
    "\n",
    "# Set index counter\n",
    "index = 0\n",
    "\n",
    "# Put title and price in different list\n",
    "# there seems to be a natural 'counting index' in for...in... loop > hence the index+=1\n",
    "for item in data:\n",
    "    \n",
    "    # if '€' in item, put the item before in 'title' and the current item in 'price'\n",
    "    if u'\\xa0\\u20ac' in item:\n",
    "        title.append(data[index-1])\n",
    "        price.append(item)\n",
    "    \n",
    "    index += 1"
   ]
  },
  {
   "cell_type": "code",
   "execution_count": 56,
   "metadata": {
    "collapsed": false
   },
   "outputs": [],
   "source": [
    "title = Series(title)\n",
    "price = Series(price)"
   ]
  },
  {
   "cell_type": "code",
   "execution_count": 57,
   "metadata": {
    "collapsed": true
   },
   "outputs": [],
   "source": [
    "# Concatenate into a DataFrame\n",
    "annonce_df = pd.concat([title,price],axis=1)"
   ]
  },
  {
   "cell_type": "code",
   "execution_count": 58,
   "metadata": {
    "collapsed": false
   },
   "outputs": [],
   "source": [
    "annonce_df.columns = ['Title','Price']"
   ]
  },
  {
   "cell_type": "code",
   "execution_count": 59,
   "metadata": {
    "collapsed": false
   },
   "outputs": [
    {
     "data": {
      "text/plain": [
       "pandas.core.frame.DataFrame"
      ]
     },
     "execution_count": 59,
     "metadata": {},
     "output_type": "execute_result"
    }
   ],
   "source": [
    "type(annonce_df)"
   ]
  },
  {
   "cell_type": "code",
   "execution_count": 60,
   "metadata": {
    "collapsed": false
   },
   "outputs": [
    {
     "name": "stdout",
     "output_type": "stream",
     "text": [
      "<class 'pandas.core.frame.DataFrame'>\n",
      "Int64Index: 291 entries, 0 to 290\n",
      "Data columns (total 2 columns):\n",
      "Title    291 non-null object\n",
      "Price    291 non-null object\n",
      "dtypes: object(2)\n",
      "memory usage: 6.8+ KB\n"
     ]
    }
   ],
   "source": [
    "annonce_df.info()"
   ]
  },
  {
   "cell_type": "code",
   "execution_count": 61,
   "metadata": {
    "collapsed": false
   },
   "outputs": [
    {
     "data": {
      "text/html": [
       "<div style=\"max-height:1000px;max-width:1500px;overflow:auto;\">\n",
       "<table border=\"1\" class=\"dataframe\">\n",
       "  <thead>\n",
       "    <tr style=\"text-align: right;\">\n",
       "      <th></th>\n",
       "      <th>Title</th>\n",
       "      <th>Price</th>\n",
       "    </tr>\n",
       "  </thead>\n",
       "  <tbody>\n",
       "    <tr>\n",
       "      <th>0</th>\n",
       "      <td>Sigma 120-300 f2.8 EX HSM OS+Sigma 1.4+Canon 7D</td>\n",
       "      <td>1 300 €</td>\n",
       "    </tr>\n",
       "    <tr>\n",
       "      <th>1</th>\n",
       "      <td>Canon EOS 7D + 24-105 f4</td>\n",
       "      <td>950 €</td>\n",
       "    </tr>\n",
       "    <tr>\n",
       "      <th>2</th>\n",
       "      <td>CANON 5D Mark III Garantie FNAC 1 AN</td>\n",
       "      <td>2 000 €</td>\n",
       "    </tr>\n",
       "    <tr>\n",
       "      <th>3</th>\n",
       "      <td>Canon EOS 7 D boitier</td>\n",
       "      <td>550 €</td>\n",
       "    </tr>\n",
       "    <tr>\n",
       "      <th>4</th>\n",
       "      <td>Nouveau Canon EF 100-400mm f/4.5-5.6L IS mark ...</td>\n",
       "      <td>1 750 €</td>\n",
       "    </tr>\n",
       "  </tbody>\n",
       "</table>\n",
       "</div>"
      ],
      "text/plain": [
       "                                               Title    Price\n",
       "0    Sigma 120-300 f2.8 EX HSM OS+Sigma 1.4+Canon 7D  1 300 €\n",
       "1                           Canon EOS 7D + 24-105 f4    950 €\n",
       "2               CANON 5D Mark III Garantie FNAC 1 AN  2 000 €\n",
       "3                              Canon EOS 7 D boitier    550 €\n",
       "4  Nouveau Canon EF 100-400mm f/4.5-5.6L IS mark ...  1 750 €"
      ]
     },
     "execution_count": 61,
     "metadata": {},
     "output_type": "execute_result"
    }
   ],
   "source": [
    "annonce_df['Price'] = annonce_df['Price'].replace(u'\\xa0', ' ')\n",
    "annonce_df.head(5)"
   ]
  },
  {
   "cell_type": "code",
   "execution_count": 62,
   "metadata": {
    "collapsed": false
   },
   "outputs": [
    {
     "data": {
      "text/plain": [
       "Title    object\n",
       "Price    object\n",
       "dtype: object"
      ]
     },
     "execution_count": 62,
     "metadata": {},
     "output_type": "execute_result"
    }
   ],
   "source": [
    "annonce_df.dtypes"
   ]
  },
  {
   "cell_type": "code",
   "execution_count": 110,
   "metadata": {
    "collapsed": false
   },
   "outputs": [
    {
     "data": {
      "text/html": [
       "<div style=\"max-height:1000px;max-width:1500px;overflow:auto;\">\n",
       "<table border=\"1\" class=\"dataframe\">\n",
       "  <thead>\n",
       "    <tr style=\"text-align: right;\">\n",
       "      <th></th>\n",
       "      <th>Title</th>\n",
       "      <th>Price</th>\n",
       "      <th>Price Cat</th>\n",
       "      <th>Annonce Cat</th>\n",
       "    </tr>\n",
       "  </thead>\n",
       "  <tbody>\n",
       "    <tr>\n",
       "      <th>0</th>\n",
       "      <td>Sigma 120-300 f2.8 EX HSM OS+Sigma 1.4+Canon 7D</td>\n",
       "      <td>1300</td>\n",
       "      <td>1001 - 1500</td>\n",
       "      <td>bundle</td>\n",
       "    </tr>\n",
       "    <tr>\n",
       "      <th>1</th>\n",
       "      <td>Canon EOS 7D + 24-105 f4</td>\n",
       "      <td>950</td>\n",
       "      <td>501 - 1000</td>\n",
       "      <td>bundle</td>\n",
       "    </tr>\n",
       "    <tr>\n",
       "      <th>2</th>\n",
       "      <td>CANON 5D Mark III Garantie FNAC 1 AN</td>\n",
       "      <td>2000</td>\n",
       "      <td>Over 1500</td>\n",
       "      <td>Mark II</td>\n",
       "    </tr>\n",
       "    <tr>\n",
       "      <th>3</th>\n",
       "      <td>Canon EOS 7 D boitier</td>\n",
       "      <td>550</td>\n",
       "      <td>501 - 1000</td>\n",
       "      <td>body</td>\n",
       "    </tr>\n",
       "    <tr>\n",
       "      <th>4</th>\n",
       "      <td>Nouveau Canon EF 100-400mm f/4.5-5.6L IS mark ...</td>\n",
       "      <td>1750</td>\n",
       "      <td>Over 1500</td>\n",
       "      <td>Mark II</td>\n",
       "    </tr>\n",
       "    <tr>\n",
       "      <th>5</th>\n",
       "      <td>Flash cobra</td>\n",
       "      <td>50</td>\n",
       "      <td>0 - 500</td>\n",
       "      <td>body</td>\n",
       "    </tr>\n",
       "    <tr>\n",
       "      <th>6</th>\n",
       "      <td>Canon eos 7d</td>\n",
       "      <td>950</td>\n",
       "      <td>501 - 1000</td>\n",
       "      <td>body</td>\n",
       "    </tr>\n",
       "    <tr>\n",
       "      <th>7</th>\n",
       "      <td>Locations matériels photo vidéo reportage studio</td>\n",
       "      <td>10</td>\n",
       "      <td>0 - 500</td>\n",
       "      <td>body</td>\n",
       "    </tr>\n",
       "    <tr>\n",
       "      <th>8</th>\n",
       "      <td>Canon 7D mark II</td>\n",
       "      <td>990</td>\n",
       "      <td>501 - 1000</td>\n",
       "      <td>Mark II</td>\n",
       "    </tr>\n",
       "    <tr>\n",
       "      <th>9</th>\n",
       "      <td>Objectif tamron af 90mm 2.8 Di macro Canon</td>\n",
       "      <td>250</td>\n",
       "      <td>0 - 500</td>\n",
       "      <td>body</td>\n",
       "    </tr>\n",
       "    <tr>\n",
       "      <th>10</th>\n",
       "      <td>Objectif canon ef 70-300mm usm is</td>\n",
       "      <td>260</td>\n",
       "      <td>0 - 500</td>\n",
       "      <td>body</td>\n",
       "    </tr>\n",
       "    <tr>\n",
       "      <th>11</th>\n",
       "      <td>Nikon D300 + Grip MD-D10</td>\n",
       "      <td>540</td>\n",
       "      <td>501 - 1000</td>\n",
       "      <td>bundle</td>\n",
       "    </tr>\n",
       "    <tr>\n",
       "      <th>12</th>\n",
       "      <td>Canon 7D + EF-S 15-85 + 50mm 1.8 + accessoires</td>\n",
       "      <td>1000</td>\n",
       "      <td>501 - 1000</td>\n",
       "      <td>bundle</td>\n",
       "    </tr>\n",
       "    <tr>\n",
       "      <th>13</th>\n",
       "      <td>Location Canon EOS 550D</td>\n",
       "      <td>25</td>\n",
       "      <td>0 - 500</td>\n",
       "      <td>body</td>\n",
       "    </tr>\n",
       "    <tr>\n",
       "      <th>14</th>\n",
       "      <td>Objectif canon ef 15mm 2.8 Fish Eyes</td>\n",
       "      <td>500</td>\n",
       "      <td>0 - 500</td>\n",
       "      <td>body</td>\n",
       "    </tr>\n",
       "    <tr>\n",
       "      <th>15</th>\n",
       "      <td>Location studio photo paris</td>\n",
       "      <td>24</td>\n",
       "      <td>0 - 500</td>\n",
       "      <td>body</td>\n",
       "    </tr>\n",
       "    <tr>\n",
       "      <th>16</th>\n",
       "      <td>Canon 550D +Canon EF-S IS 18-55 mm+accessoires</td>\n",
       "      <td>290</td>\n",
       "      <td>0 - 500</td>\n",
       "      <td>bundle</td>\n",
       "    </tr>\n",
       "    <tr>\n",
       "      <th>17</th>\n",
       "      <td>Nikon D300S</td>\n",
       "      <td>480</td>\n",
       "      <td>0 - 500</td>\n",
       "      <td>body</td>\n",
       "    </tr>\n",
       "    <tr>\n",
       "      <th>18</th>\n",
       "      <td>Canon 7d + Accessoires</td>\n",
       "      <td>200</td>\n",
       "      <td>0 - 500</td>\n",
       "      <td>bundle</td>\n",
       "    </tr>\n",
       "    <tr>\n",
       "      <th>19</th>\n",
       "      <td>Grip pour DSLR Canon EOS 7D</td>\n",
       "      <td>45</td>\n",
       "      <td>0 - 500</td>\n",
       "      <td>body</td>\n",
       "    </tr>\n",
       "    <tr>\n",
       "      <th>20</th>\n",
       "      <td>Chargeur Canon LC-E6E pour batterie LP-E6</td>\n",
       "      <td>30</td>\n",
       "      <td>0 - 500</td>\n",
       "      <td>body</td>\n",
       "    </tr>\n",
       "    <tr>\n",
       "      <th>21</th>\n",
       "      <td>Sony pmw f3</td>\n",
       "      <td>799</td>\n",
       "      <td>501 - 1000</td>\n",
       "      <td>body</td>\n",
       "    </tr>\n",
       "    <tr>\n",
       "      <th>22</th>\n",
       "      <td>Canon 7D, Grip, 4 Objectifs, 2 Flashs, Accesso...</td>\n",
       "      <td>1600</td>\n",
       "      <td>Over 1500</td>\n",
       "      <td>bundle</td>\n",
       "    </tr>\n",
       "    <tr>\n",
       "      <th>23</th>\n",
       "      <td>Objectif Canon EF-S 18-55 IS</td>\n",
       "      <td>60</td>\n",
       "      <td>0 - 500</td>\n",
       "      <td>body</td>\n",
       "    </tr>\n",
       "    <tr>\n",
       "      <th>24</th>\n",
       "      <td>Shoulder cross épaule</td>\n",
       "      <td>130</td>\n",
       "      <td>0 - 500</td>\n",
       "      <td>body</td>\n",
       "    </tr>\n",
       "    <tr>\n",
       "      <th>25</th>\n",
       "      <td>OBJECTIF CANON 24-70 f/2.8 L</td>\n",
       "      <td>750</td>\n",
       "      <td>501 - 1000</td>\n",
       "      <td>body</td>\n",
       "    </tr>\n",
       "    <tr>\n",
       "      <th>26</th>\n",
       "      <td>Canon eos 7D mark II</td>\n",
       "      <td>900</td>\n",
       "      <td>501 - 1000</td>\n",
       "      <td>Mark II</td>\n",
       "    </tr>\n",
       "    <tr>\n",
       "      <th>27</th>\n",
       "      <td>Canon 70-200 f/2.8 USM Série I</td>\n",
       "      <td>790</td>\n",
       "      <td>501 - 1000</td>\n",
       "      <td>body</td>\n",
       "    </tr>\n",
       "    <tr>\n",
       "      <th>28</th>\n",
       "      <td>Boitier Nikon D700 FX full frame + accessoires</td>\n",
       "      <td>680</td>\n",
       "      <td>501 - 1000</td>\n",
       "      <td>bundle</td>\n",
       "    </tr>\n",
       "    <tr>\n",
       "      <th>29</th>\n",
       "      <td>Canon EOS 7d + 2 objectifs + garantie</td>\n",
       "      <td>999</td>\n",
       "      <td>501 - 1000</td>\n",
       "      <td>bundle</td>\n",
       "    </tr>\n",
       "  </tbody>\n",
       "</table>\n",
       "</div>"
      ],
      "text/plain": [
       "                                                Title  Price    Price Cat  \\\n",
       "0     Sigma 120-300 f2.8 EX HSM OS+Sigma 1.4+Canon 7D   1300  1001 - 1500   \n",
       "1                            Canon EOS 7D + 24-105 f4    950   501 - 1000   \n",
       "2                CANON 5D Mark III Garantie FNAC 1 AN   2000    Over 1500   \n",
       "3                               Canon EOS 7 D boitier    550   501 - 1000   \n",
       "4   Nouveau Canon EF 100-400mm f/4.5-5.6L IS mark ...   1750    Over 1500   \n",
       "5                                         Flash cobra     50      0 - 500   \n",
       "6                                        Canon eos 7d    950   501 - 1000   \n",
       "7    Locations matériels photo vidéo reportage studio     10      0 - 500   \n",
       "8                                    Canon 7D mark II    990   501 - 1000   \n",
       "9          Objectif tamron af 90mm 2.8 Di macro Canon    250      0 - 500   \n",
       "10                  Objectif canon ef 70-300mm usm is    260      0 - 500   \n",
       "11                           Nikon D300 + Grip MD-D10    540   501 - 1000   \n",
       "12     Canon 7D + EF-S 15-85 + 50mm 1.8 + accessoires   1000   501 - 1000   \n",
       "13                            Location Canon EOS 550D     25      0 - 500   \n",
       "14               Objectif canon ef 15mm 2.8 Fish Eyes    500      0 - 500   \n",
       "15                        Location studio photo paris     24      0 - 500   \n",
       "16     Canon 550D +Canon EF-S IS 18-55 mm+accessoires    290      0 - 500   \n",
       "17                                        Nikon D300S    480      0 - 500   \n",
       "18                             Canon 7d + Accessoires    200      0 - 500   \n",
       "19                        Grip pour DSLR Canon EOS 7D     45      0 - 500   \n",
       "20          Chargeur Canon LC-E6E pour batterie LP-E6     30      0 - 500   \n",
       "21                                        Sony pmw f3    799   501 - 1000   \n",
       "22  Canon 7D, Grip, 4 Objectifs, 2 Flashs, Accesso...   1600    Over 1500   \n",
       "23                       Objectif Canon EF-S 18-55 IS     60      0 - 500   \n",
       "24                              Shoulder cross épaule    130      0 - 500   \n",
       "25                       OBJECTIF CANON 24-70 f/2.8 L    750   501 - 1000   \n",
       "26                               Canon eos 7D mark II    900   501 - 1000   \n",
       "27                     Canon 70-200 f/2.8 USM Série I    790   501 - 1000   \n",
       "28     Boitier Nikon D700 FX full frame + accessoires    680   501 - 1000   \n",
       "29              Canon EOS 7d + 2 objectifs + garantie    999   501 - 1000   \n",
       "\n",
       "   Annonce Cat  \n",
       "0       bundle  \n",
       "1       bundle  \n",
       "2      Mark II  \n",
       "3         body  \n",
       "4      Mark II  \n",
       "5         body  \n",
       "6         body  \n",
       "7         body  \n",
       "8      Mark II  \n",
       "9         body  \n",
       "10        body  \n",
       "11      bundle  \n",
       "12      bundle  \n",
       "13        body  \n",
       "14        body  \n",
       "15        body  \n",
       "16      bundle  \n",
       "17        body  \n",
       "18      bundle  \n",
       "19        body  \n",
       "20        body  \n",
       "21        body  \n",
       "22      bundle  \n",
       "23        body  \n",
       "24        body  \n",
       "25        body  \n",
       "26     Mark II  \n",
       "27        body  \n",
       "28      bundle  \n",
       "29      bundle  "
      ]
     },
     "execution_count": 110,
     "metadata": {},
     "output_type": "execute_result"
    }
   ],
   "source": [
    "# Replace € and replace white space and then convert to int\n",
    "annonce_df['Price'] = annonce_df['Price'].replace( u'\\u20ac','', regex=True ).replace(' ', '',regex=True).astype(int)\n",
    "annonce_df.head(30)"
   ]
  },
  {
   "cell_type": "code",
   "execution_count": 66,
   "metadata": {
    "collapsed": false
   },
   "outputs": [
    {
     "data": {
      "text/plain": [
       "Title    object\n",
       "Price     int64\n",
       "dtype: object"
      ]
     },
     "execution_count": 66,
     "metadata": {},
     "output_type": "execute_result"
    }
   ],
   "source": [
    "annonce_df.dtypes"
   ]
  },
  {
   "cell_type": "code",
   "execution_count": 67,
   "metadata": {
    "collapsed": false
   },
   "outputs": [
    {
     "data": {
      "text/html": [
       "<div style=\"max-height:1000px;max-width:1500px;overflow:auto;\">\n",
       "<table border=\"1\" class=\"dataframe\">\n",
       "  <thead>\n",
       "    <tr style=\"text-align: right;\">\n",
       "      <th></th>\n",
       "      <th>Price</th>\n",
       "    </tr>\n",
       "  </thead>\n",
       "  <tbody>\n",
       "    <tr>\n",
       "      <th>count</th>\n",
       "      <td>291.000000</td>\n",
       "    </tr>\n",
       "    <tr>\n",
       "      <th>mean</th>\n",
       "      <td>563.749141</td>\n",
       "    </tr>\n",
       "    <tr>\n",
       "      <th>std</th>\n",
       "      <td>620.396744</td>\n",
       "    </tr>\n",
       "    <tr>\n",
       "      <th>min</th>\n",
       "      <td>1.000000</td>\n",
       "    </tr>\n",
       "    <tr>\n",
       "      <th>25%</th>\n",
       "      <td>100.000000</td>\n",
       "    </tr>\n",
       "    <tr>\n",
       "      <th>50%</th>\n",
       "      <td>500.000000</td>\n",
       "    </tr>\n",
       "    <tr>\n",
       "      <th>75%</th>\n",
       "      <td>800.000000</td>\n",
       "    </tr>\n",
       "    <tr>\n",
       "      <th>max</th>\n",
       "      <td>6400.000000</td>\n",
       "    </tr>\n",
       "  </tbody>\n",
       "</table>\n",
       "</div>"
      ],
      "text/plain": [
       "             Price\n",
       "count   291.000000\n",
       "mean    563.749141\n",
       "std     620.396744\n",
       "min       1.000000\n",
       "25%     100.000000\n",
       "50%     500.000000\n",
       "75%     800.000000\n",
       "max    6400.000000"
      ]
     },
     "execution_count": 67,
     "metadata": {},
     "output_type": "execute_result"
    }
   ],
   "source": [
    "annonce_df.describe()"
   ]
  },
  {
   "cell_type": "code",
   "execution_count": 68,
   "metadata": {
    "collapsed": false
   },
   "outputs": [
    {
     "data": {
      "text/html": [
       "<div style=\"max-height:1000px;max-width:1500px;overflow:auto;\">\n",
       "<table border=\"1\" class=\"dataframe\">\n",
       "  <thead>\n",
       "    <tr style=\"text-align: right;\">\n",
       "      <th></th>\n",
       "      <th>Title</th>\n",
       "      <th>Price</th>\n",
       "      <th>Price Cat</th>\n",
       "    </tr>\n",
       "  </thead>\n",
       "  <tbody>\n",
       "    <tr>\n",
       "      <th>0</th>\n",
       "      <td>Sigma 120-300 f2.8 EX HSM OS+Sigma 1.4+Canon 7D</td>\n",
       "      <td>1300</td>\n",
       "      <td>1001 - 1500</td>\n",
       "    </tr>\n",
       "    <tr>\n",
       "      <th>1</th>\n",
       "      <td>Canon EOS 7D + 24-105 f4</td>\n",
       "      <td>950</td>\n",
       "      <td>501 - 1000</td>\n",
       "    </tr>\n",
       "    <tr>\n",
       "      <th>2</th>\n",
       "      <td>CANON 5D Mark III Garantie FNAC 1 AN</td>\n",
       "      <td>2000</td>\n",
       "      <td>Over 1500</td>\n",
       "    </tr>\n",
       "    <tr>\n",
       "      <th>3</th>\n",
       "      <td>Canon EOS 7 D boitier</td>\n",
       "      <td>550</td>\n",
       "      <td>501 - 1000</td>\n",
       "    </tr>\n",
       "    <tr>\n",
       "      <th>4</th>\n",
       "      <td>Nouveau Canon EF 100-400mm f/4.5-5.6L IS mark ...</td>\n",
       "      <td>1750</td>\n",
       "      <td>Over 1500</td>\n",
       "    </tr>\n",
       "  </tbody>\n",
       "</table>\n",
       "</div>"
      ],
      "text/plain": [
       "                                               Title  Price    Price Cat\n",
       "0    Sigma 120-300 f2.8 EX HSM OS+Sigma 1.4+Canon 7D   1300  1001 - 1500\n",
       "1                           Canon EOS 7D + 24-105 f4    950   501 - 1000\n",
       "2               CANON 5D Mark III Garantie FNAC 1 AN   2000    Over 1500\n",
       "3                              Canon EOS 7 D boitier    550   501 - 1000\n",
       "4  Nouveau Canon EF 100-400mm f/4.5-5.6L IS mark ...   1750    Over 1500"
      ]
     },
     "execution_count": 68,
     "metadata": {},
     "output_type": "execute_result"
    }
   ],
   "source": [
    "def cat_500(price):\n",
    "    if 0 <= price <= 500:\n",
    "        return '0 - 500'\n",
    "    if 501 <= price <= 1000:\n",
    "        return '501 - 1000'\n",
    "    if 1001 <= price <= 1500:\n",
    "        return '1001 - 1500'\n",
    "    if 1501 <= price:\n",
    "        return 'Over 1500'\n",
    "    \n",
    "annonce_df['Price Cat'] = annonce_df['Price'].apply(cat_500).astype(str)\n",
    "annonce_df.head()"
   ]
  },
  {
   "cell_type": "code",
   "execution_count": 69,
   "metadata": {
    "collapsed": false
   },
   "outputs": [
    {
     "data": {
      "text/plain": [
       "Title        object\n",
       "Price         int64\n",
       "Price Cat    object\n",
       "dtype: object"
      ]
     },
     "execution_count": 69,
     "metadata": {},
     "output_type": "execute_result"
    }
   ],
   "source": [
    "annonce_df.dtypes"
   ]
  },
  {
   "cell_type": "code",
   "execution_count": 109,
   "metadata": {
    "collapsed": false
   },
   "outputs": [
    {
     "data": {
      "text/html": [
       "<div style=\"max-height:1000px;max-width:1500px;overflow:auto;\">\n",
       "<table border=\"1\" class=\"dataframe\">\n",
       "  <thead>\n",
       "    <tr style=\"text-align: right;\">\n",
       "      <th></th>\n",
       "      <th>Title</th>\n",
       "      <th>Price</th>\n",
       "      <th>Price Cat</th>\n",
       "      <th>Annonce Cat</th>\n",
       "    </tr>\n",
       "  </thead>\n",
       "  <tbody>\n",
       "    <tr>\n",
       "      <th>0</th>\n",
       "      <td>Sigma 120-300 f2.8 EX HSM OS+Sigma 1.4+Canon 7D</td>\n",
       "      <td>1300</td>\n",
       "      <td>1001 - 1500</td>\n",
       "      <td>bundle</td>\n",
       "    </tr>\n",
       "    <tr>\n",
       "      <th>1</th>\n",
       "      <td>Canon EOS 7D + 24-105 f4</td>\n",
       "      <td>950</td>\n",
       "      <td>501 - 1000</td>\n",
       "      <td>bundle</td>\n",
       "    </tr>\n",
       "    <tr>\n",
       "      <th>2</th>\n",
       "      <td>CANON 5D Mark III Garantie FNAC 1 AN</td>\n",
       "      <td>2000</td>\n",
       "      <td>Over 1500</td>\n",
       "      <td>Mark II</td>\n",
       "    </tr>\n",
       "    <tr>\n",
       "      <th>3</th>\n",
       "      <td>Canon EOS 7 D boitier</td>\n",
       "      <td>550</td>\n",
       "      <td>501 - 1000</td>\n",
       "      <td>body</td>\n",
       "    </tr>\n",
       "    <tr>\n",
       "      <th>4</th>\n",
       "      <td>Nouveau Canon EF 100-400mm f/4.5-5.6L IS mark ...</td>\n",
       "      <td>1750</td>\n",
       "      <td>Over 1500</td>\n",
       "      <td>Mark II</td>\n",
       "    </tr>\n",
       "  </tbody>\n",
       "</table>\n",
       "</div>"
      ],
      "text/plain": [
       "                                               Title  Price    Price Cat  \\\n",
       "0    Sigma 120-300 f2.8 EX HSM OS+Sigma 1.4+Canon 7D   1300  1001 - 1500   \n",
       "1                           Canon EOS 7D + 24-105 f4    950   501 - 1000   \n",
       "2               CANON 5D Mark III Garantie FNAC 1 AN   2000    Over 1500   \n",
       "3                              Canon EOS 7 D boitier    550   501 - 1000   \n",
       "4  Nouveau Canon EF 100-400mm f/4.5-5.6L IS mark ...   1750    Over 1500   \n",
       "\n",
       "  Annonce Cat  \n",
       "0      bundle  \n",
       "1      bundle  \n",
       "2     Mark II  \n",
       "3        body  \n",
       "4     Mark II  "
      ]
     },
     "execution_count": 109,
     "metadata": {},
     "output_type": "execute_result"
    }
   ],
   "source": [
    "# not so pretty, or method does not seem to work, find why?\n",
    "def annonce_cat(title):\n",
    "    if 'objectif' in title:\n",
    "        return 'bundle'\n",
    "    if 'objectifs' in title:\n",
    "        return 'bundle'\n",
    "    if '+' in title:\n",
    "        return 'bundle'\n",
    "    if ',' in title:\n",
    "        return 'bundle'\n",
    "    if 'II' in title:\n",
    "        return 'Mark II'\n",
    "    else: \n",
    "        return 'body'\n",
    "\n",
    "annonce_df['Annonce Cat'] = annonce_df['Title'].apply(annonce_cat)\n",
    "annonce_df.head()"
   ]
  },
  {
   "cell_type": "markdown",
   "metadata": {},
   "source": [
    "####Cleaned DF"
   ]
  },
  {
   "cell_type": "code",
   "execution_count": 103,
   "metadata": {
    "collapsed": false
   },
   "outputs": [
    {
     "data": {
      "text/html": [
       "<div style=\"max-height:1000px;max-width:1500px;overflow:auto;\">\n",
       "<table border=\"1\" class=\"dataframe\">\n",
       "  <thead>\n",
       "    <tr style=\"text-align: right;\">\n",
       "      <th></th>\n",
       "      <th>Title</th>\n",
       "      <th>Price</th>\n",
       "      <th>Price Cat</th>\n",
       "      <th>Annonce Cat</th>\n",
       "    </tr>\n",
       "  </thead>\n",
       "  <tbody>\n",
       "    <tr>\n",
       "      <th>0</th>\n",
       "      <td>Sigma 120-300 f2.8 EX HSM OS+Sigma 1.4+Canon 7D</td>\n",
       "      <td>1300</td>\n",
       "      <td>1001 - 1500</td>\n",
       "      <td>bundle</td>\n",
       "    </tr>\n",
       "    <tr>\n",
       "      <th>1</th>\n",
       "      <td>Canon EOS 7D + 24-105 f4</td>\n",
       "      <td>950</td>\n",
       "      <td>501 - 1000</td>\n",
       "      <td>bundle</td>\n",
       "    </tr>\n",
       "    <tr>\n",
       "      <th>6</th>\n",
       "      <td>Canon eos 7d</td>\n",
       "      <td>950</td>\n",
       "      <td>501 - 1000</td>\n",
       "      <td>body</td>\n",
       "    </tr>\n",
       "    <tr>\n",
       "      <th>8</th>\n",
       "      <td>Canon 7D mark II</td>\n",
       "      <td>990</td>\n",
       "      <td>501 - 1000</td>\n",
       "      <td>Mark II</td>\n",
       "    </tr>\n",
       "    <tr>\n",
       "      <th>12</th>\n",
       "      <td>Canon 7D + EF-S 15-85 + 50mm 1.8 + accessoires</td>\n",
       "      <td>1000</td>\n",
       "      <td>501 - 1000</td>\n",
       "      <td>bundle</td>\n",
       "    </tr>\n",
       "    <tr>\n",
       "      <th>18</th>\n",
       "      <td>Canon 7d + Accessoires</td>\n",
       "      <td>200</td>\n",
       "      <td>0 - 500</td>\n",
       "      <td>bundle</td>\n",
       "    </tr>\n",
       "    <tr>\n",
       "      <th>19</th>\n",
       "      <td>Grip pour DSLR Canon EOS 7D</td>\n",
       "      <td>45</td>\n",
       "      <td>0 - 500</td>\n",
       "      <td>body</td>\n",
       "    </tr>\n",
       "    <tr>\n",
       "      <th>22</th>\n",
       "      <td>Canon 7D, Grip, 4 Objectifs, 2 Flashs, Accesso...</td>\n",
       "      <td>1600</td>\n",
       "      <td>Over 1500</td>\n",
       "      <td>bundle</td>\n",
       "    </tr>\n",
       "    <tr>\n",
       "      <th>26</th>\n",
       "      <td>Canon eos 7D mark II</td>\n",
       "      <td>900</td>\n",
       "      <td>501 - 1000</td>\n",
       "      <td>Mark II</td>\n",
       "    </tr>\n",
       "    <tr>\n",
       "      <th>29</th>\n",
       "      <td>Canon EOS 7d + 2 objectifs + garantie</td>\n",
       "      <td>999</td>\n",
       "      <td>501 - 1000</td>\n",
       "      <td>bundle</td>\n",
       "    </tr>\n",
       "  </tbody>\n",
       "</table>\n",
       "</div>"
      ],
      "text/plain": [
       "                                                Title  Price    Price Cat  \\\n",
       "0     Sigma 120-300 f2.8 EX HSM OS+Sigma 1.4+Canon 7D   1300  1001 - 1500   \n",
       "1                            Canon EOS 7D + 24-105 f4    950   501 - 1000   \n",
       "6                                        Canon eos 7d    950   501 - 1000   \n",
       "8                                    Canon 7D mark II    990   501 - 1000   \n",
       "12     Canon 7D + EF-S 15-85 + 50mm 1.8 + accessoires   1000   501 - 1000   \n",
       "18                             Canon 7d + Accessoires    200      0 - 500   \n",
       "19                        Grip pour DSLR Canon EOS 7D     45      0 - 500   \n",
       "22  Canon 7D, Grip, 4 Objectifs, 2 Flashs, Accesso...   1600    Over 1500   \n",
       "26                               Canon eos 7D mark II    900   501 - 1000   \n",
       "29              Canon EOS 7d + 2 objectifs + garantie    999   501 - 1000   \n",
       "\n",
       "   Annonce Cat  \n",
       "0       bundle  \n",
       "1       bundle  \n",
       "6         body  \n",
       "8      Mark II  \n",
       "12      bundle  \n",
       "18      bundle  \n",
       "19        body  \n",
       "22      bundle  \n",
       "26     Mark II  \n",
       "29      bundle  "
      ]
     },
     "execution_count": 103,
     "metadata": {},
     "output_type": "execute_result"
    }
   ],
   "source": [
    "cleaned_df = annonce_df[annonce_df['Title'].str.contains('(7D|7d)', regex=True)]\n",
    "cleaned_df.head(10)"
   ]
  },
  {
   "cell_type": "code",
   "execution_count": 91,
   "metadata": {
    "collapsed": false
   },
   "outputs": [
    {
     "data": {
      "text/html": [
       "<div style=\"max-height:1000px;max-width:1500px;overflow:auto;\">\n",
       "<table border=\"1\" class=\"dataframe\">\n",
       "  <thead>\n",
       "    <tr style=\"text-align: right;\">\n",
       "      <th></th>\n",
       "      <th>Price</th>\n",
       "    </tr>\n",
       "  </thead>\n",
       "  <tbody>\n",
       "    <tr>\n",
       "      <th>count</th>\n",
       "      <td>131.000000</td>\n",
       "    </tr>\n",
       "    <tr>\n",
       "      <th>mean</th>\n",
       "      <td>810.908397</td>\n",
       "    </tr>\n",
       "    <tr>\n",
       "      <th>std</th>\n",
       "      <td>444.779279</td>\n",
       "    </tr>\n",
       "    <tr>\n",
       "      <th>min</th>\n",
       "      <td>15.000000</td>\n",
       "    </tr>\n",
       "    <tr>\n",
       "      <th>25%</th>\n",
       "      <td>600.000000</td>\n",
       "    </tr>\n",
       "    <tr>\n",
       "      <th>50%</th>\n",
       "      <td>750.000000</td>\n",
       "    </tr>\n",
       "    <tr>\n",
       "      <th>75%</th>\n",
       "      <td>950.000000</td>\n",
       "    </tr>\n",
       "    <tr>\n",
       "      <th>max</th>\n",
       "      <td>2900.000000</td>\n",
       "    </tr>\n",
       "  </tbody>\n",
       "</table>\n",
       "</div>"
      ],
      "text/plain": [
       "             Price\n",
       "count   131.000000\n",
       "mean    810.908397\n",
       "std     444.779279\n",
       "min      15.000000\n",
       "25%     600.000000\n",
       "50%     750.000000\n",
       "75%     950.000000\n",
       "max    2900.000000"
      ]
     },
     "execution_count": 91,
     "metadata": {},
     "output_type": "execute_result"
    }
   ],
   "source": [
    "cleaned_df.describe()"
   ]
  },
  {
   "cell_type": "code",
   "execution_count": 92,
   "metadata": {
    "collapsed": true
   },
   "outputs": [],
   "source": [
    "# Let's import what we'll need for the analysis and visualization\n",
    "import numpy as np\n",
    "import matplotlib.pyplot as plt\n",
    "import seaborn as sns\n",
    "%matplotlib inline"
   ]
  },
  {
   "cell_type": "markdown",
   "metadata": {},
   "source": [
    "[Box and whisker plot | Descriptive statistics | Probability and Statistics](https://www.youtube.com/watch?v=b2C9I8HuCe4&feature=youtu.be)"
   ]
  },
  {
   "cell_type": "code",
   "execution_count": 93,
   "metadata": {
    "collapsed": false
   },
   "outputs": [
    {
     "data": {
      "text/plain": [
       "<matplotlib.axes._subplots.AxesSubplot at 0x11796dd90>"
      ]
     },
     "execution_count": 93,
     "metadata": {},
     "output_type": "execute_result"
    },
    {
     "data": {
      "image/png": "[encoded data removed]",
      "text/plain": [
       "<matplotlib.figure.Figure at 0x117dfe150>"
      ]
     },
     "metadata": {},
     "output_type": "display_data"
    }
   ],
   "source": [
    "sns.set_style(\"whitegrid\")\n",
    "sns.boxplot(x='Price', data=cleaned_df)"
   ]
  },
  {
   "cell_type": "code",
   "execution_count": 104,
   "metadata": {
    "collapsed": false
   },
   "outputs": [],
   "source": [
    "body = cleaned_df[cleaned_df['Annonce Cat'] == 'body']\n",
    "bundle = cleaned_df[cleaned_df['Annonce Cat'] == 'bundle']\n",
    "mark_II = cleaned_df[cleaned_df['Annonce Cat'] == 'Mark II']"
   ]
  },
  {
   "cell_type": "code",
   "execution_count": 105,
   "metadata": {
    "collapsed": false
   },
   "outputs": [
    {
     "data": {
      "text/html": [
       "<div style=\"max-height:1000px;max-width:1500px;overflow:auto;\">\n",
       "<table border=\"1\" class=\"dataframe\">\n",
       "  <thead>\n",
       "    <tr style=\"text-align: right;\">\n",
       "      <th></th>\n",
       "      <th>Price</th>\n",
       "    </tr>\n",
       "  </thead>\n",
       "  <tbody>\n",
       "    <tr>\n",
       "      <th>count</th>\n",
       "      <td>57.000000</td>\n",
       "    </tr>\n",
       "    <tr>\n",
       "      <th>mean</th>\n",
       "      <td>615.280702</td>\n",
       "    </tr>\n",
       "    <tr>\n",
       "      <th>std</th>\n",
       "      <td>323.452235</td>\n",
       "    </tr>\n",
       "    <tr>\n",
       "      <th>min</th>\n",
       "      <td>15.000000</td>\n",
       "    </tr>\n",
       "    <tr>\n",
       "      <th>25%</th>\n",
       "      <td>500.000000</td>\n",
       "    </tr>\n",
       "    <tr>\n",
       "      <th>50%</th>\n",
       "      <td>620.000000</td>\n",
       "    </tr>\n",
       "    <tr>\n",
       "      <th>75%</th>\n",
       "      <td>750.000000</td>\n",
       "    </tr>\n",
       "    <tr>\n",
       "      <th>max</th>\n",
       "      <td>1500.000000</td>\n",
       "    </tr>\n",
       "  </tbody>\n",
       "</table>\n",
       "</div>"
      ],
      "text/plain": [
       "             Price\n",
       "count    57.000000\n",
       "mean    615.280702\n",
       "std     323.452235\n",
       "min      15.000000\n",
       "25%     500.000000\n",
       "50%     620.000000\n",
       "75%     750.000000\n",
       "max    1500.000000"
      ]
     },
     "execution_count": 105,
     "metadata": {},
     "output_type": "execute_result"
    }
   ],
   "source": [
    "body.describe()"
   ]
  },
  {
   "cell_type": "code",
   "execution_count": 106,
   "metadata": {
    "collapsed": false
   },
   "outputs": [
    {
     "data": {
      "text/plain": [
       "<matplotlib.axes._subplots.AxesSubplot at 0x116c85890>"
      ]
     },
     "execution_count": 106,
     "metadata": {},
     "output_type": "execute_result"
    },
    {
     "data": {
      "image/png": "[encoded data removed]",
      "text/plain": [
       "<matplotlib.figure.Figure at 0x11711b910>"
      ]
     },
     "metadata": {},
     "output_type": "display_data"
    }
   ],
   "source": [
    "sns.set_style(\"whitegrid\")\n",
    "sns.boxplot(x='Price', data=body)"
   ]
  },
  {
   "cell_type": "code",
   "execution_count": 107,
   "metadata": {
    "collapsed": false
   },
   "outputs": [
    {
     "data": {
      "text/plain": [
       "<matplotlib.axes._subplots.AxesSubplot at 0x1183dcb50>"
      ]
     },
     "execution_count": 107,
     "metadata": {},
     "output_type": "execute_result"
    },
    {
     "data": {
      "image/png": "[encoded data removed]",
      "text/plain": [
       "<matplotlib.figure.Figure at 0x117444b10>"
      ]
     },
     "metadata": {},
     "output_type": "display_data"
    }
   ],
   "source": [
    "sns.set_style(\"whitegrid\")\n",
    "sns.boxplot(x='Price', data=bundle)"
   ]
  },
  {
   "cell_type": "code",
   "execution_count": 108,
   "metadata": {
    "collapsed": false
   },
   "outputs": [
    {
     "data": {
      "text/plain": [
       "<matplotlib.axes._subplots.AxesSubplot at 0x1174fe710>"
      ]
     },
     "execution_count": 108,
     "metadata": {},
     "output_type": "execute_result"
    },
    {
     "data": {
      "image/png": "[encoded data removed]",
      "text/plain": [
       "<matplotlib.figure.Figure at 0x112b5a1d0>"
      ]
     },
     "metadata": {},
     "output_type": "display_data"
    }
   ],
   "source": [
    "sns.set_style(\"whitegrid\")\n",
    "sns.boxplot(x='Price', data=mark_II)"
   ]
  },
  {
   "cell_type": "markdown",
   "metadata": {},
   "source": [
    "---\n",
    "**Areas of improvements**\n",
    "- ~~change prices into integer~~\n",
    "- Remove wrong 'annonces' and 'annonces' that sell also lenses\n",
    "- add publishing dates of the 'annonce'"
   ]
  },
  {
   "cell_type": "code",
   "execution_count": null,
   "metadata": {
    "collapsed": true
   },
   "outputs": [],
   "source": []
  }
 ],
 "metadata": {
  "kernelspec": {
   "display_name": "Python 2",
   "language": "python",
   "name": "python2"
  },
  "language_info": {
   "codemirror_mode": {
    "name": "ipython",
    "version": 2
   },
   "file_extension": ".py",
   "mimetype": "text/x-python",
   "name": "python",
   "nbconvert_exporter": "python",
   "pygments_lexer": "ipython2",
   "version": "2.7.9"
  }
 },
 "nbformat": 4,
 "nbformat_minor": 0
}
