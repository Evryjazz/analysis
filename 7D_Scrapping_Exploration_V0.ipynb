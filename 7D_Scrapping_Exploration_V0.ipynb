{
 "cells": [
  {
   "cell_type": "code",
   "execution_count": 33,
   "metadata": {
    "collapsed": false
   },
   "outputs": [
    {
     "ename": "SyntaxError",
     "evalue": "invalid syntax (<ipython-input-33-7f66cbb1472b>, line 1)",
     "output_type": "error",
     "traceback": [
      "\u001b[0;36m  File \u001b[0;32m\"<ipython-input-33-7f66cbb1472b>\"\u001b[0;36m, line \u001b[0;32m1\u001b[0m\n\u001b[0;31m    <script>\u001b[0m\n\u001b[0m    ^\u001b[0m\n\u001b[0;31mSyntaxError\u001b[0m\u001b[0;31m:\u001b[0m invalid syntax\n"
     ]
    }
   ],
   "source": [
    "<script>\n",
    "  function code_toggle() {\n",
    "    if (code_shown){\n",
    "      $('div.input').hide('500');\n",
    "      $('#toggleButton').val('Show Code')\n",
    "    } else {\n",
    "      $('div.input').show('500');\n",
    "      $('#toggleButton').val('Hide Code')\n",
    "    }\n",
    "    code_shown = !code_shown\n",
    "  }\n",
    "\n",
    "  $( document ).ready(function(){\n",
    "    code_shown=false;\n",
    "    $('div.input').hide()\n",
    "  });\n",
    "</script>\n",
    "<form action=\"javascript:code_toggle()\"><input type=\"submit\" id=\"toggleButton\" value=\"Show Code\"></form>\n",
    "\n",
    "<script>\n",
    "  jQuery(document).ready(function($) {\n",
    "\n",
    "  $(window).load(function(){\n",
    "    $('#preloader').fadeOut('slow',function(){$(this).remove();});\n",
    "  });\n",
    "\n",
    "  });\n",
    "</script>\n",
    "\n",
    "<style type=\"text/css\">\n",
    "  div#preloader { position: fixed;\n",
    "      left: 0;\n",
    "      top: 0;\n",
    "      z-index: 999;\n",
    "      width: 100%;\n",
    "      height: 100%;\n",
    "      overflow: visible;\n",
    "      background: #fff url('http://preloaders.net/preloaders/720/Moving%20line.gif') no-repeat center center;\n",
    "  }\n",
    "\n",
    "</style>\n",
    "\n",
    "<div id=\"preloader\"></div>"
   ]
  },
  {
   "cell_type": "markdown",
   "metadata": {},
   "source": [
    "###**The final idea is to get an 'LBC market price' for canon 7D body only**"
   ]
  },
  {
   "cell_type": "markdown",
   "metadata": {},
   "source": [
    "> **Scope**: *Ile de France*"
   ]
  },
  {
   "cell_type": "markdown",
   "metadata": {},
   "source": [
    "***Articles/Ressources that help me along the way***\n",
    "- [Git repo: JM Portilla Web Scraping Tuto](https://github.com/jmportilla/Web-Scraping/blob/master/Web%20Scraping.ipynb)\n",
    "- [Article: Querying Craiglist](http://predictablynoisy.com/querying-craigslist-with-python/)\n",
    "- [Article: Quick Craiglist Data Analysis](http://predictablynoisy.com/quick-craigslist-data-analysis/)\n",
    "- Useful Links:\n",
    "    - http://stackoverflow.com/questions/16835449/python-beautifulsoup-extract-text-between-element#\n",
    "- [Formating IPython Notebook with Markdown¶](https://github.com/adam-p/markdown-here/wiki/Markdown-Cheatsheet#videos)\n",
    "- [Scraping multiple pages for parsing in Beautiful Soup](http://stackoverflow.com/questions/8334805/scraping-multiple-pages-for-parsing-in-beautiful-soup)"
   ]
  },
  {
   "cell_type": "code",
   "execution_count": 1,
   "metadata": {
    "collapsed": true
   },
   "outputs": [],
   "source": [
    "# Libraries export\n",
    "from bs4 import BeautifulSoup\n",
    "import requests\n",
    "\n",
    "import pandas as pd\n",
    "from pandas import Series, DataFrame\n",
    "\n",
    "# regex module\n",
    "import re"
   ]
  },
  {
   "cell_type": "code",
   "execution_count": 2,
   "metadata": {
    "collapsed": false
   },
   "outputs": [
    {
     "name": "stderr",
     "output_type": "stream",
     "text": [
      "/usr/local/lib/python2.7/site-packages/bs4/__init__.py:166: UserWarning: No parser was explicitly specified, so I'm using the best available HTML parser for this system (\"lxml\"). This usually isn't a problem, but if you run this code on another system, or in a different virtual environment, it may use a different parser and behave differently.\n",
      "\n",
      "To get rid of this warning, change this:\n",
      "\n",
      " BeautifulSoup([your markup])\n",
      "\n",
      "to this:\n",
      "\n",
      " BeautifulSoup([your markup], \"lxml\")\n",
      "\n",
      "  markup_type=markup_type))\n"
     ]
    }
   ],
   "source": [
    "# Méthode pas très classe, à reprendre - done\n",
    "#page_number = ['1', '2', '3', '4', '5', '6', '7', '8']\n",
    "page_number = str(range(1,50))\n",
    "data = []\n",
    "\n",
    "for numb in page_number:\n",
    "    url = 'https://www.leboncoin.fr/annonces/offres/ile_de_france/occasions/?o=' + numb + '&q=canon+7D'\n",
    "    \n",
    "    # Request content from web page\n",
    "    result = requests.get(url)\n",
    "    c = result.content\n",
    "    \n",
    "    # Set as Beautiful Soup Object\n",
    "    soup = BeautifulSoup(c)\n",
    "    \n",
    "    # Take all title and price tag\n",
    "    summary = soup.findAll(True, {'class':['title', 'price']})\n",
    "    \n",
    "    # list creation in data\n",
    "    for content in summary:\n",
    "        purchase_info = content.contents[0].strip()\n",
    "        data.append(purchase_info)"
   ]
  },
  {
   "cell_type": "code",
   "execution_count": 6,
   "metadata": {
    "collapsed": false
   },
   "outputs": [
    {
     "data": {
      "text/plain": [
       "list"
      ]
     },
     "execution_count": 6,
     "metadata": {},
     "output_type": "execute_result"
    }
   ],
   "source": [
    "type(data)"
   ]
  },
  {
   "cell_type": "code",
   "execution_count": 7,
   "metadata": {
    "collapsed": false,
    "scrolled": true
   },
   "outputs": [
    {
     "data": {
      "text/plain": [
       "[u'Canon 7D + 18-55 + 17-55 BAS PRIX A SAIRIR',\n",
       " u'490\\xa0\\u20ac',\n",
       " u'Canon reflex EOS 7D',\n",
       " u'650\\xa0\\u20ac',\n",
       " u'Nacelle Stabilisateur Reflex (DSLR) Gimbal',\n",
       " u'590\\xa0\\u20ac',\n",
       " u'T\\xe9l\\xe9commande RC-6 pour appareil photo Canon',\n",
       " u'6\\xa0\\u20ac',\n",
       " u'Canon EF 24-85mm USM',\n",
       " u'100\\xa0\\u20ac']"
      ]
     },
     "execution_count": 7,
     "metadata": {},
     "output_type": "execute_result"
    }
   ],
   "source": [
    "data[:10]"
   ]
  },
  {
   "cell_type": "code",
   "execution_count": 8,
   "metadata": {
    "collapsed": false
   },
   "outputs": [],
   "source": [
    "# Function to check if there is a number in the string\n",
    "# http://stackoverflow.com/questions/19859282/check-if-a-string-contains-a-number\n",
    "# def num_there(s):\n",
    "#    return any(i.isdigit() for i in s)\n",
    "\n",
    "\n",
    "# https://www.udemy.com/learning-python-for-data-analysis-and-visualization/learn/#/lecture/2819010\n",
    "\n",
    "# Set up empty lists\n",
    "title = []\n",
    "price = []\n",
    "\n",
    "# Set index counter\n",
    "index = 0\n",
    "\n",
    "# Put title and price in different list\n",
    "# there seems to be a natural 'counting index' in for...in... loop > hence the index+=1\n",
    "for item in data:\n",
    "    \n",
    "    # if '€' in item, put the item before in 'title' and the current item in 'price'\n",
    "    if u'\\xa0\\u20ac' in item:\n",
    "        title.append(data[index-1])\n",
    "        price.append(item)\n",
    "    \n",
    "    index += 1"
   ]
  },
  {
   "cell_type": "code",
   "execution_count": 9,
   "metadata": {
    "collapsed": false
   },
   "outputs": [],
   "source": [
    "title = Series(title)\n",
    "price = Series(price)"
   ]
  },
  {
   "cell_type": "code",
   "execution_count": 10,
   "metadata": {
    "collapsed": true
   },
   "outputs": [],
   "source": [
    "# Concatenate into a DataFrame\n",
    "annonce_df = pd.concat([title,price],axis=1)"
   ]
  },
  {
   "cell_type": "code",
   "execution_count": 11,
   "metadata": {
    "collapsed": false
   },
   "outputs": [],
   "source": [
    "annonce_df.columns = ['Title','Price']"
   ]
  },
  {
   "cell_type": "code",
   "execution_count": 12,
   "metadata": {
    "collapsed": false
   },
   "outputs": [
    {
     "data": {
      "text/plain": [
       "pandas.core.frame.DataFrame"
      ]
     },
     "execution_count": 12,
     "metadata": {},
     "output_type": "execute_result"
    }
   ],
   "source": [
    "type(annonce_df)"
   ]
  },
  {
   "cell_type": "code",
   "execution_count": 13,
   "metadata": {
    "collapsed": false
   },
   "outputs": [
    {
     "name": "stdout",
     "output_type": "stream",
     "text": [
      "<class 'pandas.core.frame.DataFrame'>\n",
      "Int64Index: 3352 entries, 0 to 3351\n",
      "Data columns (total 2 columns):\n",
      "Title    3352 non-null object\n",
      "Price    3352 non-null object\n",
      "dtypes: object(2)\n",
      "memory usage: 78.6+ KB\n"
     ]
    }
   ],
   "source": [
    "annonce_df.info()"
   ]
  },
  {
   "cell_type": "code",
   "execution_count": 14,
   "metadata": {
    "collapsed": false
   },
   "outputs": [
    {
     "data": {
      "text/html": [
       "<div style=\"max-height:1000px;max-width:1500px;overflow:auto;\">\n",
       "<table border=\"1\" class=\"dataframe\">\n",
       "  <thead>\n",
       "    <tr style=\"text-align: right;\">\n",
       "      <th></th>\n",
       "      <th>Title</th>\n",
       "      <th>Price</th>\n",
       "    </tr>\n",
       "  </thead>\n",
       "  <tbody>\n",
       "    <tr>\n",
       "      <th>0</th>\n",
       "      <td>Canon 7D + 18-55 + 17-55 BAS PRIX A SAIRIR</td>\n",
       "      <td>490 €</td>\n",
       "    </tr>\n",
       "    <tr>\n",
       "      <th>1</th>\n",
       "      <td>Canon reflex EOS 7D</td>\n",
       "      <td>650 €</td>\n",
       "    </tr>\n",
       "    <tr>\n",
       "      <th>2</th>\n",
       "      <td>Nacelle Stabilisateur Reflex (DSLR) Gimbal</td>\n",
       "      <td>590 €</td>\n",
       "    </tr>\n",
       "    <tr>\n",
       "      <th>3</th>\n",
       "      <td>Télécommande RC-6 pour appareil photo Canon</td>\n",
       "      <td>6 €</td>\n",
       "    </tr>\n",
       "    <tr>\n",
       "      <th>4</th>\n",
       "      <td>Canon EF 24-85mm USM</td>\n",
       "      <td>100 €</td>\n",
       "    </tr>\n",
       "  </tbody>\n",
       "</table>\n",
       "</div>"
      ],
      "text/plain": [
       "                                         Title  Price\n",
       "0   Canon 7D + 18-55 + 17-55 BAS PRIX A SAIRIR  490 €\n",
       "1                          Canon reflex EOS 7D  650 €\n",
       "2   Nacelle Stabilisateur Reflex (DSLR) Gimbal  590 €\n",
       "3  Télécommande RC-6 pour appareil photo Canon    6 €\n",
       "4                         Canon EF 24-85mm USM  100 €"
      ]
     },
     "execution_count": 14,
     "metadata": {},
     "output_type": "execute_result"
    }
   ],
   "source": [
    "annonce_df['Price'] = annonce_df['Price'].replace(u'\\xa0', ' ')\n",
    "annonce_df.head(5)"
   ]
  },
  {
   "cell_type": "code",
   "execution_count": 15,
   "metadata": {
    "collapsed": false
   },
   "outputs": [
    {
     "data": {
      "text/plain": [
       "Title    object\n",
       "Price    object\n",
       "dtype: object"
      ]
     },
     "execution_count": 15,
     "metadata": {},
     "output_type": "execute_result"
    }
   ],
   "source": [
    "annonce_df.dtypes"
   ]
  },
  {
   "cell_type": "code",
   "execution_count": 16,
   "metadata": {
    "collapsed": false
   },
   "outputs": [
    {
     "data": {
      "text/html": [
       "<div style=\"max-height:1000px;max-width:1500px;overflow:auto;\">\n",
       "<table border=\"1\" class=\"dataframe\">\n",
       "  <thead>\n",
       "    <tr style=\"text-align: right;\">\n",
       "      <th></th>\n",
       "      <th>Title</th>\n",
       "      <th>Price</th>\n",
       "    </tr>\n",
       "  </thead>\n",
       "  <tbody>\n",
       "    <tr>\n",
       "      <th>0</th>\n",
       "      <td>Canon 7D + 18-55 + 17-55 BAS PRIX A SAIRIR</td>\n",
       "      <td>490</td>\n",
       "    </tr>\n",
       "    <tr>\n",
       "      <th>1</th>\n",
       "      <td>Canon reflex EOS 7D</td>\n",
       "      <td>650</td>\n",
       "    </tr>\n",
       "    <tr>\n",
       "      <th>2</th>\n",
       "      <td>Nacelle Stabilisateur Reflex (DSLR) Gimbal</td>\n",
       "      <td>590</td>\n",
       "    </tr>\n",
       "    <tr>\n",
       "      <th>3</th>\n",
       "      <td>Télécommande RC-6 pour appareil photo Canon</td>\n",
       "      <td>6</td>\n",
       "    </tr>\n",
       "    <tr>\n",
       "      <th>4</th>\n",
       "      <td>Canon EF 24-85mm USM</td>\n",
       "      <td>100</td>\n",
       "    </tr>\n",
       "    <tr>\n",
       "      <th>5</th>\n",
       "      <td>Canon EOS 7D + 3 batteries LP-E6 + 2 carte S</td>\n",
       "      <td>900</td>\n",
       "    </tr>\n",
       "    <tr>\n",
       "      <th>6</th>\n",
       "      <td>Télécommande intervallomètre -Canon-Pentax-Sam...</td>\n",
       "      <td>35</td>\n",
       "    </tr>\n",
       "    <tr>\n",
       "      <th>7</th>\n",
       "      <td>Canon 7D gripé,flash 430EX,multiplicateur Kenko</td>\n",
       "      <td>1110</td>\n",
       "    </tr>\n",
       "    <tr>\n",
       "      <th>8</th>\n",
       "      <td>Canon 7D kit 18-135</td>\n",
       "      <td>850</td>\n",
       "    </tr>\n",
       "    <tr>\n",
       "      <th>9</th>\n",
       "      <td>CANON reflex numérique EOS 7D 33226 déc</td>\n",
       "      <td>649</td>\n",
       "    </tr>\n",
       "    <tr>\n",
       "      <th>10</th>\n",
       "      <td>Objectif Canon EF-S 17-55 f/2.8 IS USM</td>\n",
       "      <td>400</td>\n",
       "    </tr>\n",
       "    <tr>\n",
       "      <th>11</th>\n",
       "      <td>Objectif Canon EF-S 10-22 mm</td>\n",
       "      <td>350</td>\n",
       "    </tr>\n",
       "    <tr>\n",
       "      <th>12</th>\n",
       "      <td>CANON 7D + Sigma 17-70 + nombreux accésoires</td>\n",
       "      <td>750</td>\n",
       "    </tr>\n",
       "    <tr>\n",
       "      <th>13</th>\n",
       "      <td>Canon Boitier 7D nu</td>\n",
       "      <td>500</td>\n",
       "    </tr>\n",
       "    <tr>\n",
       "      <th>14</th>\n",
       "      <td>Location studio photo paris</td>\n",
       "      <td>24</td>\n",
       "    </tr>\n",
       "    <tr>\n",
       "      <th>15</th>\n",
       "      <td>CANON battery poignée GRIP BG-E5</td>\n",
       "      <td>30</td>\n",
       "    </tr>\n",
       "    <tr>\n",
       "      <th>16</th>\n",
       "      <td>Canon EOS7D: kit complet très bon état +2 opti...</td>\n",
       "      <td>1350</td>\n",
       "    </tr>\n",
       "    <tr>\n",
       "      <th>17</th>\n",
       "      <td>Nikon D300 + Grip MD-D10</td>\n",
       "      <td>540</td>\n",
       "    </tr>\n",
       "    <tr>\n",
       "      <th>18</th>\n",
       "      <td>Canon EOS 7d + objectif 50mm f/1.8 ll</td>\n",
       "      <td>700</td>\n",
       "    </tr>\n",
       "    <tr>\n",
       "      <th>19</th>\n",
       "      <td>Canon EOS 7D + accessoires</td>\n",
       "      <td>500</td>\n",
       "    </tr>\n",
       "    <tr>\n",
       "      <th>20</th>\n",
       "      <td>Canon eos 7d mark II</td>\n",
       "      <td>980</td>\n",
       "    </tr>\n",
       "    <tr>\n",
       "      <th>21</th>\n",
       "      <td>Reflex canon eos 7d</td>\n",
       "      <td>700</td>\n",
       "    </tr>\n",
       "    <tr>\n",
       "      <th>22</th>\n",
       "      <td>Canon EOS 7d</td>\n",
       "      <td>500</td>\n",
       "    </tr>\n",
       "    <tr>\n",
       "      <th>23</th>\n",
       "      <td>Canon eos 700d + objectif STM 18-135 garantie ...</td>\n",
       "      <td>600</td>\n",
       "    </tr>\n",
       "    <tr>\n",
       "      <th>24</th>\n",
       "      <td>Objectif canon efs 55-250mn</td>\n",
       "      <td>110</td>\n",
       "    </tr>\n",
       "    <tr>\n",
       "      <th>25</th>\n",
       "      <td>Intervallomètre pour Canon</td>\n",
       "      <td>18</td>\n",
       "    </tr>\n",
       "    <tr>\n",
       "      <th>26</th>\n",
       "      <td>Canon 7 D (boiter nu)</td>\n",
       "      <td>400</td>\n",
       "    </tr>\n",
       "    <tr>\n",
       "      <th>27</th>\n",
       "      <td>Objectif Sigma 18-200mm F3,5-6,3 monture Canon...</td>\n",
       "      <td>150</td>\n",
       "    </tr>\n",
       "    <tr>\n",
       "      <th>28</th>\n",
       "      <td>Canon Eos 7D + Canon EF 24-105mm F4 + carte + sac</td>\n",
       "      <td>1200</td>\n",
       "    </tr>\n",
       "    <tr>\n",
       "      <th>29</th>\n",
       "      <td>Reflex canon 50d nu + sd 4go ou+objectif 18-55...</td>\n",
       "      <td>320</td>\n",
       "    </tr>\n",
       "  </tbody>\n",
       "</table>\n",
       "</div>"
      ],
      "text/plain": [
       "                                                Title  Price\n",
       "0          Canon 7D + 18-55 + 17-55 BAS PRIX A SAIRIR    490\n",
       "1                                 Canon reflex EOS 7D    650\n",
       "2          Nacelle Stabilisateur Reflex (DSLR) Gimbal    590\n",
       "3         Télécommande RC-6 pour appareil photo Canon      6\n",
       "4                                Canon EF 24-85mm USM    100\n",
       "5        Canon EOS 7D + 3 batteries LP-E6 + 2 carte S    900\n",
       "6   Télécommande intervallomètre -Canon-Pentax-Sam...     35\n",
       "7     Canon 7D gripé,flash 430EX,multiplicateur Kenko   1110\n",
       "8                                 Canon 7D kit 18-135    850\n",
       "9             CANON reflex numérique EOS 7D 33226 déc    649\n",
       "10             Objectif Canon EF-S 17-55 f/2.8 IS USM    400\n",
       "11                       Objectif Canon EF-S 10-22 mm    350\n",
       "12       CANON 7D + Sigma 17-70 + nombreux accésoires    750\n",
       "13                                Canon Boitier 7D nu    500\n",
       "14                        Location studio photo paris     24\n",
       "15                   CANON battery poignée GRIP BG-E5     30\n",
       "16  Canon EOS7D: kit complet très bon état +2 opti...   1350\n",
       "17                           Nikon D300 + Grip MD-D10    540\n",
       "18              Canon EOS 7d + objectif 50mm f/1.8 ll    700\n",
       "19                         Canon EOS 7D + accessoires    500\n",
       "20                               Canon eos 7d mark II    980\n",
       "21                                Reflex canon eos 7d    700\n",
       "22                                       Canon EOS 7d    500\n",
       "23  Canon eos 700d + objectif STM 18-135 garantie ...    600\n",
       "24                        Objectif canon efs 55-250mn    110\n",
       "25                         Intervallomètre pour Canon     18\n",
       "26                              Canon 7 D (boiter nu)    400\n",
       "27  Objectif Sigma 18-200mm F3,5-6,3 monture Canon...    150\n",
       "28  Canon Eos 7D + Canon EF 24-105mm F4 + carte + sac   1200\n",
       "29  Reflex canon 50d nu + sd 4go ou+objectif 18-55...    320"
      ]
     },
     "execution_count": 16,
     "metadata": {},
     "output_type": "execute_result"
    }
   ],
   "source": [
    "# Replace € and replace white space and then convert to int\n",
    "annonce_df['Price'] = annonce_df['Price'].replace( u'\\u20ac','', regex=True ).replace(' ', '',regex=True).astype(int)\n",
    "annonce_df.head(30)"
   ]
  },
  {
   "cell_type": "code",
   "execution_count": 17,
   "metadata": {
    "collapsed": false
   },
   "outputs": [
    {
     "data": {
      "text/plain": [
       "Title    object\n",
       "Price     int64\n",
       "dtype: object"
      ]
     },
     "execution_count": 17,
     "metadata": {},
     "output_type": "execute_result"
    }
   ],
   "source": [
    "annonce_df.dtypes"
   ]
  },
  {
   "cell_type": "code",
   "execution_count": 18,
   "metadata": {
    "collapsed": false
   },
   "outputs": [
    {
     "data": {
      "text/html": [
       "<div style=\"max-height:1000px;max-width:1500px;overflow:auto;\">\n",
       "<table border=\"1\" class=\"dataframe\">\n",
       "  <thead>\n",
       "    <tr style=\"text-align: right;\">\n",
       "      <th></th>\n",
       "      <th>Price</th>\n",
       "    </tr>\n",
       "  </thead>\n",
       "  <tbody>\n",
       "    <tr>\n",
       "      <th>count</th>\n",
       "      <td>3352.000000</td>\n",
       "    </tr>\n",
       "    <tr>\n",
       "      <th>mean</th>\n",
       "      <td>554.966587</td>\n",
       "    </tr>\n",
       "    <tr>\n",
       "      <th>std</th>\n",
       "      <td>506.559602</td>\n",
       "    </tr>\n",
       "    <tr>\n",
       "      <th>min</th>\n",
       "      <td>1.000000</td>\n",
       "    </tr>\n",
       "    <tr>\n",
       "      <th>25%</th>\n",
       "      <td>150.000000</td>\n",
       "    </tr>\n",
       "    <tr>\n",
       "      <th>50%</th>\n",
       "      <td>500.000000</td>\n",
       "    </tr>\n",
       "    <tr>\n",
       "      <th>75%</th>\n",
       "      <td>799.000000</td>\n",
       "    </tr>\n",
       "    <tr>\n",
       "      <th>max</th>\n",
       "      <td>6400.000000</td>\n",
       "    </tr>\n",
       "  </tbody>\n",
       "</table>\n",
       "</div>"
      ],
      "text/plain": [
       "             Price\n",
       "count  3352.000000\n",
       "mean    554.966587\n",
       "std     506.559602\n",
       "min       1.000000\n",
       "25%     150.000000\n",
       "50%     500.000000\n",
       "75%     799.000000\n",
       "max    6400.000000"
      ]
     },
     "execution_count": 18,
     "metadata": {},
     "output_type": "execute_result"
    }
   ],
   "source": [
    "annonce_df.describe()"
   ]
  },
  {
   "cell_type": "code",
   "execution_count": 19,
   "metadata": {
    "collapsed": false
   },
   "outputs": [
    {
     "data": {
      "text/html": [
       "<div style=\"max-height:1000px;max-width:1500px;overflow:auto;\">\n",
       "<table border=\"1\" class=\"dataframe\">\n",
       "  <thead>\n",
       "    <tr style=\"text-align: right;\">\n",
       "      <th></th>\n",
       "      <th>Title</th>\n",
       "      <th>Price</th>\n",
       "      <th>Price Cat</th>\n",
       "    </tr>\n",
       "  </thead>\n",
       "  <tbody>\n",
       "    <tr>\n",
       "      <th>0</th>\n",
       "      <td>Canon 7D + 18-55 + 17-55 BAS PRIX A SAIRIR</td>\n",
       "      <td>490</td>\n",
       "      <td>0 - 500</td>\n",
       "    </tr>\n",
       "    <tr>\n",
       "      <th>1</th>\n",
       "      <td>Canon reflex EOS 7D</td>\n",
       "      <td>650</td>\n",
       "      <td>501 - 1000</td>\n",
       "    </tr>\n",
       "    <tr>\n",
       "      <th>2</th>\n",
       "      <td>Nacelle Stabilisateur Reflex (DSLR) Gimbal</td>\n",
       "      <td>590</td>\n",
       "      <td>501 - 1000</td>\n",
       "    </tr>\n",
       "    <tr>\n",
       "      <th>3</th>\n",
       "      <td>Télécommande RC-6 pour appareil photo Canon</td>\n",
       "      <td>6</td>\n",
       "      <td>0 - 500</td>\n",
       "    </tr>\n",
       "    <tr>\n",
       "      <th>4</th>\n",
       "      <td>Canon EF 24-85mm USM</td>\n",
       "      <td>100</td>\n",
       "      <td>0 - 500</td>\n",
       "    </tr>\n",
       "  </tbody>\n",
       "</table>\n",
       "</div>"
      ],
      "text/plain": [
       "                                         Title  Price   Price Cat\n",
       "0   Canon 7D + 18-55 + 17-55 BAS PRIX A SAIRIR    490     0 - 500\n",
       "1                          Canon reflex EOS 7D    650  501 - 1000\n",
       "2   Nacelle Stabilisateur Reflex (DSLR) Gimbal    590  501 - 1000\n",
       "3  Télécommande RC-6 pour appareil photo Canon      6     0 - 500\n",
       "4                         Canon EF 24-85mm USM    100     0 - 500"
      ]
     },
     "execution_count": 19,
     "metadata": {},
     "output_type": "execute_result"
    }
   ],
   "source": [
    "def cat_500(price):\n",
    "    if 0 <= price <= 500:\n",
    "        return '0 - 500'\n",
    "    if 501 <= price <= 1000:\n",
    "        return '501 - 1000'\n",
    "    if 1001 <= price <= 1500:\n",
    "        return '1001 - 1500'\n",
    "    if 1501 <= price:\n",
    "        return 'Over 1500'\n",
    "    \n",
    "annonce_df['Price Cat'] = annonce_df['Price'].apply(cat_500).astype(str)\n",
    "annonce_df.head()"
   ]
  },
  {
   "cell_type": "code",
   "execution_count": 20,
   "metadata": {
    "collapsed": false
   },
   "outputs": [
    {
     "data": {
      "text/plain": [
       "Title        object\n",
       "Price         int64\n",
       "Price Cat    object\n",
       "dtype: object"
      ]
     },
     "execution_count": 20,
     "metadata": {},
     "output_type": "execute_result"
    }
   ],
   "source": [
    "annonce_df.dtypes"
   ]
  },
  {
   "cell_type": "code",
   "execution_count": 21,
   "metadata": {
    "collapsed": false
   },
   "outputs": [
    {
     "data": {
      "text/html": [
       "<div style=\"max-height:1000px;max-width:1500px;overflow:auto;\">\n",
       "<table border=\"1\" class=\"dataframe\">\n",
       "  <thead>\n",
       "    <tr style=\"text-align: right;\">\n",
       "      <th></th>\n",
       "      <th>Title</th>\n",
       "      <th>Price</th>\n",
       "      <th>Price Cat</th>\n",
       "      <th>Annonce Cat</th>\n",
       "    </tr>\n",
       "  </thead>\n",
       "  <tbody>\n",
       "    <tr>\n",
       "      <th>0</th>\n",
       "      <td>Canon 7D + 18-55 + 17-55 BAS PRIX A SAIRIR</td>\n",
       "      <td>490</td>\n",
       "      <td>0 - 500</td>\n",
       "      <td>bundle</td>\n",
       "    </tr>\n",
       "    <tr>\n",
       "      <th>1</th>\n",
       "      <td>Canon reflex EOS 7D</td>\n",
       "      <td>650</td>\n",
       "      <td>501 - 1000</td>\n",
       "      <td>body</td>\n",
       "    </tr>\n",
       "    <tr>\n",
       "      <th>2</th>\n",
       "      <td>Nacelle Stabilisateur Reflex (DSLR) Gimbal</td>\n",
       "      <td>590</td>\n",
       "      <td>501 - 1000</td>\n",
       "      <td>body</td>\n",
       "    </tr>\n",
       "    <tr>\n",
       "      <th>3</th>\n",
       "      <td>Télécommande RC-6 pour appareil photo Canon</td>\n",
       "      <td>6</td>\n",
       "      <td>0 - 500</td>\n",
       "      <td>body</td>\n",
       "    </tr>\n",
       "    <tr>\n",
       "      <th>4</th>\n",
       "      <td>Canon EF 24-85mm USM</td>\n",
       "      <td>100</td>\n",
       "      <td>0 - 500</td>\n",
       "      <td>body</td>\n",
       "    </tr>\n",
       "  </tbody>\n",
       "</table>\n",
       "</div>"
      ],
      "text/plain": [
       "                                         Title  Price   Price Cat Annonce Cat\n",
       "0   Canon 7D + 18-55 + 17-55 BAS PRIX A SAIRIR    490     0 - 500      bundle\n",
       "1                          Canon reflex EOS 7D    650  501 - 1000        body\n",
       "2   Nacelle Stabilisateur Reflex (DSLR) Gimbal    590  501 - 1000        body\n",
       "3  Télécommande RC-6 pour appareil photo Canon      6     0 - 500        body\n",
       "4                         Canon EF 24-85mm USM    100     0 - 500        body"
      ]
     },
     "execution_count": 21,
     "metadata": {},
     "output_type": "execute_result"
    }
   ],
   "source": [
    "# not so pretty, or method does not seem to work, find why?\n",
    "def annonce_cat(title):\n",
    "    if 'objectif' in title:\n",
    "        return 'bundle'\n",
    "    if 'objectifs' in title:\n",
    "        return 'bundle'\n",
    "    if '+' in title:\n",
    "        return 'bundle'\n",
    "    if ',' in title:\n",
    "        return 'bundle'\n",
    "    if 'II' in title:\n",
    "        return 'Mark II'\n",
    "    else: \n",
    "        return 'body'\n",
    "\n",
    "annonce_df['Annonce Cat'] = annonce_df['Title'].apply(annonce_cat)\n",
    "annonce_df.head()"
   ]
  },
  {
   "cell_type": "markdown",
   "metadata": {},
   "source": [
    "####Cleaned DF"
   ]
  },
  {
   "cell_type": "code",
   "execution_count": 22,
   "metadata": {
    "collapsed": false
   },
   "outputs": [
    {
     "name": "stderr",
     "output_type": "stream",
     "text": [
      "/usr/local/lib/python2.7/site-packages/pandas/core/strings.py:207: UserWarning: This pattern has match groups. To actually get the groups, use str.extract.\n",
      "  \" groups, use str.extract.\", UserWarning)\n"
     ]
    },
    {
     "data": {
      "text/html": [
       "<div style=\"max-height:1000px;max-width:1500px;overflow:auto;\">\n",
       "<table border=\"1\" class=\"dataframe\">\n",
       "  <thead>\n",
       "    <tr style=\"text-align: right;\">\n",
       "      <th></th>\n",
       "      <th>Title</th>\n",
       "      <th>Price</th>\n",
       "      <th>Price Cat</th>\n",
       "      <th>Annonce Cat</th>\n",
       "    </tr>\n",
       "  </thead>\n",
       "  <tbody>\n",
       "    <tr>\n",
       "      <th>0</th>\n",
       "      <td>Canon 7D + 18-55 + 17-55 BAS PRIX A SAIRIR</td>\n",
       "      <td>490</td>\n",
       "      <td>0 - 500</td>\n",
       "      <td>bundle</td>\n",
       "    </tr>\n",
       "    <tr>\n",
       "      <th>1</th>\n",
       "      <td>Canon reflex EOS 7D</td>\n",
       "      <td>650</td>\n",
       "      <td>501 - 1000</td>\n",
       "      <td>body</td>\n",
       "    </tr>\n",
       "    <tr>\n",
       "      <th>5</th>\n",
       "      <td>Canon EOS 7D + 3 batteries LP-E6 + 2 carte S</td>\n",
       "      <td>900</td>\n",
       "      <td>501 - 1000</td>\n",
       "      <td>bundle</td>\n",
       "    </tr>\n",
       "    <tr>\n",
       "      <th>7</th>\n",
       "      <td>Canon 7D gripé,flash 430EX,multiplicateur Kenko</td>\n",
       "      <td>1110</td>\n",
       "      <td>1001 - 1500</td>\n",
       "      <td>bundle</td>\n",
       "    </tr>\n",
       "    <tr>\n",
       "      <th>8</th>\n",
       "      <td>Canon 7D kit 18-135</td>\n",
       "      <td>850</td>\n",
       "      <td>501 - 1000</td>\n",
       "      <td>body</td>\n",
       "    </tr>\n",
       "    <tr>\n",
       "      <th>9</th>\n",
       "      <td>CANON reflex numérique EOS 7D 33226 déc</td>\n",
       "      <td>649</td>\n",
       "      <td>501 - 1000</td>\n",
       "      <td>body</td>\n",
       "    </tr>\n",
       "    <tr>\n",
       "      <th>12</th>\n",
       "      <td>CANON 7D + Sigma 17-70 + nombreux accésoires</td>\n",
       "      <td>750</td>\n",
       "      <td>501 - 1000</td>\n",
       "      <td>bundle</td>\n",
       "    </tr>\n",
       "    <tr>\n",
       "      <th>13</th>\n",
       "      <td>Canon Boitier 7D nu</td>\n",
       "      <td>500</td>\n",
       "      <td>0 - 500</td>\n",
       "      <td>body</td>\n",
       "    </tr>\n",
       "    <tr>\n",
       "      <th>16</th>\n",
       "      <td>Canon EOS7D: kit complet très bon état +2 opti...</td>\n",
       "      <td>1350</td>\n",
       "      <td>1001 - 1500</td>\n",
       "      <td>bundle</td>\n",
       "    </tr>\n",
       "    <tr>\n",
       "      <th>18</th>\n",
       "      <td>Canon EOS 7d + objectif 50mm f/1.8 ll</td>\n",
       "      <td>700</td>\n",
       "      <td>501 - 1000</td>\n",
       "      <td>bundle</td>\n",
       "    </tr>\n",
       "  </tbody>\n",
       "</table>\n",
       "</div>"
      ],
      "text/plain": [
       "                                                Title  Price    Price Cat  \\\n",
       "0          Canon 7D + 18-55 + 17-55 BAS PRIX A SAIRIR    490      0 - 500   \n",
       "1                                 Canon reflex EOS 7D    650   501 - 1000   \n",
       "5        Canon EOS 7D + 3 batteries LP-E6 + 2 carte S    900   501 - 1000   \n",
       "7     Canon 7D gripé,flash 430EX,multiplicateur Kenko   1110  1001 - 1500   \n",
       "8                                 Canon 7D kit 18-135    850   501 - 1000   \n",
       "9             CANON reflex numérique EOS 7D 33226 déc    649   501 - 1000   \n",
       "12       CANON 7D + Sigma 17-70 + nombreux accésoires    750   501 - 1000   \n",
       "13                                Canon Boitier 7D nu    500      0 - 500   \n",
       "16  Canon EOS7D: kit complet très bon état +2 opti...   1350  1001 - 1500   \n",
       "18              Canon EOS 7d + objectif 50mm f/1.8 ll    700   501 - 1000   \n",
       "\n",
       "   Annonce Cat  \n",
       "0       bundle  \n",
       "1         body  \n",
       "5       bundle  \n",
       "7       bundle  \n",
       "8         body  \n",
       "9         body  \n",
       "12      bundle  \n",
       "13        body  \n",
       "16      bundle  \n",
       "18      bundle  "
      ]
     },
     "execution_count": 22,
     "metadata": {},
     "output_type": "execute_result"
    }
   ],
   "source": [
    "cleaned_df = annonce_df[annonce_df['Title'].str.contains('(7D|7d)', regex=True)]\n",
    "cleaned_df.head(10)"
   ]
  },
  {
   "cell_type": "code",
   "execution_count": 23,
   "metadata": {
    "collapsed": false
   },
   "outputs": [
    {
     "data": {
      "text/html": [
       "<div style=\"max-height:1000px;max-width:1500px;overflow:auto;\">\n",
       "<table border=\"1\" class=\"dataframe\">\n",
       "  <thead>\n",
       "    <tr style=\"text-align: right;\">\n",
       "      <th></th>\n",
       "      <th>Price</th>\n",
       "    </tr>\n",
       "  </thead>\n",
       "  <tbody>\n",
       "    <tr>\n",
       "      <th>count</th>\n",
       "      <td>1585.000000</td>\n",
       "    </tr>\n",
       "    <tr>\n",
       "      <th>mean</th>\n",
       "      <td>776.051104</td>\n",
       "    </tr>\n",
       "    <tr>\n",
       "      <th>std</th>\n",
       "      <td>353.497856</td>\n",
       "    </tr>\n",
       "    <tr>\n",
       "      <th>min</th>\n",
       "      <td>15.000000</td>\n",
       "    </tr>\n",
       "    <tr>\n",
       "      <th>25%</th>\n",
       "      <td>600.000000</td>\n",
       "    </tr>\n",
       "    <tr>\n",
       "      <th>50%</th>\n",
       "      <td>700.000000</td>\n",
       "    </tr>\n",
       "    <tr>\n",
       "      <th>75%</th>\n",
       "      <td>950.000000</td>\n",
       "    </tr>\n",
       "    <tr>\n",
       "      <th>max</th>\n",
       "      <td>2000.000000</td>\n",
       "    </tr>\n",
       "  </tbody>\n",
       "</table>\n",
       "</div>"
      ],
      "text/plain": [
       "             Price\n",
       "count  1585.000000\n",
       "mean    776.051104\n",
       "std     353.497856\n",
       "min      15.000000\n",
       "25%     600.000000\n",
       "50%     700.000000\n",
       "75%     950.000000\n",
       "max    2000.000000"
      ]
     },
     "execution_count": 23,
     "metadata": {},
     "output_type": "execute_result"
    }
   ],
   "source": [
    "cleaned_df.describe()"
   ]
  },
  {
   "cell_type": "code",
   "execution_count": 24,
   "metadata": {
    "collapsed": true
   },
   "outputs": [],
   "source": [
    "# Let's import what we'll need for the analysis and visualization\n",
    "import numpy as np\n",
    "import matplotlib.pyplot as plt\n",
    "import seaborn as sns\n",
    "%matplotlib inline"
   ]
  },
  {
   "cell_type": "markdown",
   "metadata": {},
   "source": [
    "[Box and whisker plot | Descriptive statistics | Probability and Statistics](https://www.youtube.com/watch?v=b2C9I8HuCe4&feature=youtu.be)"
   ]
  },
  {
   "cell_type": "code",
   "execution_count": 25,
   "metadata": {
    "collapsed": false
   },
   "outputs": [
    {
     "data": {
      "text/plain": [
       "<matplotlib.axes._subplots.AxesSubplot at 0x10f5cbfd0>"
      ]
     },
     "execution_count": 25,
     "metadata": {},
     "output_type": "execute_result"
    },
    {
     "data": {
      "image/png": "[encoded data removed]",
      "text/plain": [
       "<matplotlib.figure.Figure at 0x10f5a3190>"
      ]
     },
     "metadata": {},
     "output_type": "display_data"
    }
   ],
   "source": [
    "sns.set_style(\"whitegrid\")\n",
    "sns.boxplot(x='Price', data=cleaned_df)"
   ]
  },
  {
   "cell_type": "code",
   "execution_count": 26,
   "metadata": {
    "collapsed": false
   },
   "outputs": [],
   "source": [
    "body = cleaned_df[cleaned_df['Annonce Cat'] == 'body']\n",
    "bundle = cleaned_df[cleaned_df['Annonce Cat'] == 'bundle']\n",
    "mark_II = cleaned_df[cleaned_df['Annonce Cat'] == 'Mark II']"
   ]
  },
  {
   "cell_type": "code",
   "execution_count": 27,
   "metadata": {
    "collapsed": false
   },
   "outputs": [
    {
     "data": {
      "text/html": [
       "<div style=\"max-height:1000px;max-width:1500px;overflow:auto;\">\n",
       "<table border=\"1\" class=\"dataframe\">\n",
       "  <thead>\n",
       "    <tr style=\"text-align: right;\">\n",
       "      <th></th>\n",
       "      <th>Price</th>\n",
       "    </tr>\n",
       "  </thead>\n",
       "  <tbody>\n",
       "    <tr>\n",
       "      <th>count</th>\n",
       "      <td>776.000000</td>\n",
       "    </tr>\n",
       "    <tr>\n",
       "      <th>mean</th>\n",
       "      <td>636.496134</td>\n",
       "    </tr>\n",
       "    <tr>\n",
       "      <th>std</th>\n",
       "      <td>316.629532</td>\n",
       "    </tr>\n",
       "    <tr>\n",
       "      <th>min</th>\n",
       "      <td>15.000000</td>\n",
       "    </tr>\n",
       "    <tr>\n",
       "      <th>25%</th>\n",
       "      <td>500.000000</td>\n",
       "    </tr>\n",
       "    <tr>\n",
       "      <th>50%</th>\n",
       "      <td>630.000000</td>\n",
       "    </tr>\n",
       "    <tr>\n",
       "      <th>75%</th>\n",
       "      <td>800.000000</td>\n",
       "    </tr>\n",
       "    <tr>\n",
       "      <th>max</th>\n",
       "      <td>1500.000000</td>\n",
       "    </tr>\n",
       "  </tbody>\n",
       "</table>\n",
       "</div>"
      ],
      "text/plain": [
       "             Price\n",
       "count   776.000000\n",
       "mean    636.496134\n",
       "std     316.629532\n",
       "min      15.000000\n",
       "25%     500.000000\n",
       "50%     630.000000\n",
       "75%     800.000000\n",
       "max    1500.000000"
      ]
     },
     "execution_count": 27,
     "metadata": {},
     "output_type": "execute_result"
    }
   ],
   "source": [
    "body.describe()"
   ]
  },
  {
   "cell_type": "code",
   "execution_count": 28,
   "metadata": {
    "collapsed": false
   },
   "outputs": [
    {
     "data": {
      "text/plain": [
       "<matplotlib.axes._subplots.AxesSubplot at 0x10f2bc590>"
      ]
     },
     "execution_count": 28,
     "metadata": {},
     "output_type": "execute_result"
    },
    {
     "data": {
      "image/png": "[encoded data removed]",
      "text/plain": [
       "<matplotlib.figure.Figure at 0x10f1619d0>"
      ]
     },
     "metadata": {},
     "output_type": "display_data"
    }
   ],
   "source": [
    "sns.set_style(\"whitegrid\")\n",
    "sns.boxplot(x='Price', data=body)"
   ]
  },
  {
   "cell_type": "code",
   "execution_count": 29,
   "metadata": {
    "collapsed": false
   },
   "outputs": [
    {
     "data": {
      "text/plain": [
       "<matplotlib.axes._subplots.AxesSubplot at 0x1102b2950>"
      ]
     },
     "execution_count": 29,
     "metadata": {},
     "output_type": "execute_result"
    },
    {
     "data": {
      "image/png": "[encoded data removed]",
      "text/plain": [
       "<matplotlib.figure.Figure at 0x1102c4910>"
      ]
     },
     "metadata": {},
     "output_type": "display_data"
    }
   ],
   "source": [
    "sns.set_style(\"whitegrid\")\n",
    "sns.boxplot(x='Price', data=bundle)"
   ]
  },
  {
   "cell_type": "code",
   "execution_count": 30,
   "metadata": {
    "collapsed": false
   },
   "outputs": [
    {
     "data": {
      "text/plain": [
       "<matplotlib.axes._subplots.AxesSubplot at 0x10f11c610>"
      ]
     },
     "execution_count": 30,
     "metadata": {},
     "output_type": "execute_result"
    },
    {
     "data": {
      "image/png": "[encoded data removed]",
      "text/plain": [
       "<matplotlib.figure.Figure at 0x10f890210>"
      ]
     },
     "metadata": {},
     "output_type": "display_data"
    }
   ],
   "source": [
    "sns.set_style(\"whitegrid\")\n",
    "sns.boxplot(x='Price', data=mark_II)"
   ]
  },
  {
   "cell_type": "markdown",
   "metadata": {},
   "source": [
    "---\n",
    "**Areas of improvements**\n",
    "- ~~change prices into integer~~\n",
    "- ~~Remove wrong 'annonces' and 'annonces' that sell also lenses~~~\n",
    "- add publishing dates of the 'annonce'"
   ]
  },
  {
   "cell_type": "code",
   "execution_count": null,
   "metadata": {
    "collapsed": true
   },
   "outputs": [],
   "source": []
  }
 ],
 "metadata": {
  "kernelspec": {
   "display_name": "Python 2",
   "language": "python",
   "name": "python2"
  },
  "language_info": {
   "codemirror_mode": {
    "name": "ipython",
    "version": 2
   },
   "file_extension": ".py",
   "mimetype": "text/x-python",
   "name": "python",
   "nbconvert_exporter": "python",
   "pygments_lexer": "ipython2",
   "version": "2.7.9"
  }
 },
 "nbformat": 4,
 "nbformat_minor": 0
}
