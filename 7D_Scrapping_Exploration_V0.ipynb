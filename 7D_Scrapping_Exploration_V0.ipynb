{
 "cells": [
  {
   "cell_type": "markdown",
   "metadata": {},
   "source": [
    "###**The final idea is to get an 'LBC market price' for canon 7D body only**"
   ]
  },
  {
   "cell_type": "markdown",
   "metadata": {},
   "source": [
    "> For this draft: Try to scrap info for one page"
   ]
  },
  {
   "cell_type": "markdown",
   "metadata": {},
   "source": [
    "***Articles/Ressources that help me along the way***\n",
    "- [Git repo: JM Portilla Web Scraping Tuto](https://github.com/jmportilla/Web-Scraping/blob/master/Web%20Scraping.ipynb)\n",
    "- [Article: Querying Craiglist](http://predictablynoisy.com/querying-craigslist-with-python/)\n",
    "- [Article: Quick Craiglist Data Analysis](http://predictablynoisy.com/quick-craigslist-data-analysis/)\n",
    "- Useful Links:\n",
    "    - http://stackoverflow.com/questions/16835449/python-beautifulsoup-extract-text-between-element#\n",
    "- [Formating IPython Notebook with Markdown¶](https://github.com/adam-p/markdown-here/wiki/Markdown-Cheatsheet#videos)"
   ]
  },
  {
   "cell_type": "code",
   "execution_count": 1,
   "metadata": {
    "collapsed": true
   },
   "outputs": [],
   "source": [
    "# Libraries export\n",
    "from bs4 import BeautifulSoup\n",
    "import requests\n",
    "\n",
    "import pandas as pd\n",
    "from pandas import Series, DataFrame\n",
    "\n",
    "# regex module\n",
    "import re"
   ]
  },
  {
   "cell_type": "code",
   "execution_count": 2,
   "metadata": {
    "collapsed": true
   },
   "outputs": [],
   "source": [
    "url = 'https://www.leboncoin.fr/annonces/offres/ile_de_france/occasions/?o=1&q=canon+7D'"
   ]
  },
  {
   "cell_type": "code",
   "execution_count": 3,
   "metadata": {
    "collapsed": false
   },
   "outputs": [
    {
     "name": "stderr",
     "output_type": "stream",
     "text": [
      "/usr/local/lib/python2.7/site-packages/bs4/__init__.py:166: UserWarning: No parser was explicitly specified, so I'm using the best available HTML parser for this system (\"lxml\"). This usually isn't a problem, but if you run this code on another system, or in a different virtual environment, it may use a different parser and behave differently.\n",
      "\n",
      "To get rid of this warning, change this:\n",
      "\n",
      " BeautifulSoup([your markup])\n",
      "\n",
      "to this:\n",
      "\n",
      " BeautifulSoup([your markup], \"lxml\")\n",
      "\n",
      "  markup_type=markup_type))\n"
     ]
    }
   ],
   "source": [
    "# Request content from web page\n",
    "result = requests.get(url)\n",
    "c = result.content\n",
    "\n",
    "# Set as Beautiful Soup Object\n",
    "soup = BeautifulSoup(c)"
   ]
  },
  {
   "cell_type": "code",
   "execution_count": 4,
   "metadata": {
    "collapsed": false
   },
   "outputs": [],
   "source": [
    "# Find all the title containing '7D'\n",
    "#summary = soup.findAll('a', {'title':re.compile('.7D.|.7d.')})\n",
    "\n",
    "# Take all title and price tag\n",
    "summary = soup.findAll(True, {'class':['title', 'price']})\n",
    "\n",
    "# summary = soup.findAll(True, {'class':['title', 'price']})[0].text\n",
    "\n",
    "#summary = soup.findAll('div', {'class':'price'})"
   ]
  },
  {
   "cell_type": "code",
   "execution_count": 5,
   "metadata": {
    "collapsed": false
   },
   "outputs": [
    {
     "data": {
      "text/plain": [
       "bs4.element.ResultSet"
      ]
     },
     "execution_count": 5,
     "metadata": {},
     "output_type": "execute_result"
    }
   ],
   "source": [
    "type(summary)"
   ]
  },
  {
   "cell_type": "code",
   "execution_count": 6,
   "metadata": {
    "collapsed": false
   },
   "outputs": [],
   "source": [
    "#for content in summary:\n",
    "#    print content.contents[0].strip()"
   ]
  },
  {
   "cell_type": "code",
   "execution_count": 7,
   "metadata": {
    "collapsed": false
   },
   "outputs": [],
   "source": [
    "# Set up empty data list\n",
    "data = []\n",
    "\n",
    "for content in summary:\n",
    "    purchase_info = content.contents[0].strip()\n",
    "    data.append(purchase_info)"
   ]
  },
  {
   "cell_type": "code",
   "execution_count": 8,
   "metadata": {
    "collapsed": false
   },
   "outputs": [
    {
     "data": {
      "text/plain": [
       "list"
      ]
     },
     "execution_count": 8,
     "metadata": {},
     "output_type": "execute_result"
    }
   ],
   "source": [
    "type(data)"
   ]
  },
  {
   "cell_type": "code",
   "execution_count": 9,
   "metadata": {
    "collapsed": false,
    "scrolled": true
   },
   "outputs": [
    {
     "data": {
      "text/plain": [
       "[u'Nikon D300 + Grip MD-D10',\n",
       " u'540\\xa0\\u20ac',\n",
       " u'Accro photo occasions bonnes affaires',\n",
       " u'100\\xa0\\u20ac',\n",
       " u'Canon eos 7D et Grip',\n",
       " u'600\\xa0\\u20ac',\n",
       " u'Location Cam\\xe9ra et mat\\xe9riel photo vid\\xe9o',\n",
       " u'10\\xa0\\u20ac',\n",
       " u'Objectif canon ef 70-300mm usm is',\n",
       " u'260\\xa0\\u20ac',\n",
       " u'Objectif tamron af 90mm 2.8 Di macro Canon',\n",
       " u'270\\xa0\\u20ac',\n",
       " u'Location studio photo paris',\n",
       " u'24\\xa0\\u20ac',\n",
       " u'Canon EOS 7d + 2 objectifs + garantie',\n",
       " u'1 099\\xa0\\u20ac',\n",
       " u'D300s',\n",
       " u'550\\xa0\\u20ac',\n",
       " u'Canon 7d mkii objectif 10-18 et 24-70',\n",
       " u'1 900\\xa0\\u20ac',\n",
       " u'Canon eos 7D',\n",
       " u'1 000\\xa0\\u20ac',\n",
       " u'Canon 7d + 18-55mm + 17-55mm',\n",
       " u'350\\xa0\\u20ac',\n",
       " u'Canon 7D ll+18-135mm',\n",
       " u'1 750\\xa0\\u20ac',\n",
       " u'CANON EOS 7D + 17-40 f/4 + grip BGE 7',\n",
       " u'800\\xa0\\u20ac',\n",
       " u'Neuf : Flash Canon speedlite 580EX II',\n",
       " u'289\\xa0\\u20ac',\n",
       " u'3 DYS Gimbal moteurs Brushless 8108-150T 36N-42P',\n",
       " u'300\\xa0\\u20ac',\n",
       " u'Objectif EF-S 55-250 F4-5.6 IS',\n",
       " u'120\\xa0\\u20ac',\n",
       " u'Canon 17-55 is usm f/2.8',\n",
       " u'500\\xa0\\u20ac',\n",
       " u'T\\xe9l\\xe9commande \\xe0 distance pour Canon + 3 r\\xe9cepteurs',\n",
       " u'90\\xa0\\u20ac',\n",
       " u'Canon 7d mark II 2 tbe',\n",
       " u'1 280\\xa0\\u20ac',\n",
       " u'Canon eos 7d + grip canon + Sac \\xe0 dos LOWEPRO',\n",
       " u'590\\xa0\\u20ac',\n",
       " u'Grip CANON BG-E9 pour EOS-60D NEUF',\n",
       " u'80\\xa0\\u20ac',\n",
       " u'Canon 1200D comme neuf + sacoche',\n",
       " u'260\\xa0\\u20ac',\n",
       " u'SAC A DOS PHOTO Lowepro NEUF',\n",
       " u'39\\xa0\\u20ac',\n",
       " u'Canon 7D + obj. pro 70-200mm f4 stab+ \\xe9clairage',\n",
       " u'1 900\\xa0\\u20ac',\n",
       " u'T\\xe9l\\xe9commande intervallom\\xe8tre Canon Pentax Samsung',\n",
       " u'45\\xa0\\u20ac',\n",
       " u'7d canon + mat\\xe9riel',\n",
       " u'250\\xa0\\u20ac',\n",
       " u'Canon 7D + Objectif 18-135mm + Objectif 50mm',\n",
       " u'850\\xa0\\u20ac',\n",
       " u'Objectif CANON L TS-E 24mm F/3.5',\n",
       " u'800\\xa0\\u20ac',\n",
       " u\"Canon 550D Nu + 3 batteries + Bo\\xeete d'origine\",\n",
       " u'250\\xa0\\u20ac',\n",
       " u'CANON EOS 7D + EF-S 17-55 f2.8 IS USM',\n",
       " u'1 100\\xa0\\u20ac',\n",
       " u'Tubes-allonges pour appareil photo CANON',\n",
       " u'30\\xa0\\u20ac',\n",
       " u'Canon EOS 7D nu',\n",
       " u'630\\xa0\\u20ac',\n",
       " u'Canon eos 7d + objectif 18-135mm',\n",
       " u'1 100\\xa0\\u20ac',\n",
       " u'Canon 7D',\n",
       " u'500\\xa0\\u20ac',\n",
       " u'',\n",
       " u'Accro photo occasions bonnes affaires',\n",
       " u'100\\xa0\\u20ac']"
      ]
     },
     "execution_count": 9,
     "metadata": {},
     "output_type": "execute_result"
    }
   ],
   "source": [
    "data"
   ]
  },
  {
   "cell_type": "code",
   "execution_count": 10,
   "metadata": {
    "collapsed": false
   },
   "outputs": [],
   "source": [
    "# Function to check if there is a number in the string\n",
    "# http://stackoverflow.com/questions/19859282/check-if-a-string-contains-a-number\n",
    "# def num_there(s):\n",
    "#    return any(i.isdigit() for i in s)\n",
    "\n",
    "\n",
    "# https://www.udemy.com/learning-python-for-data-analysis-and-visualization/learn/#/lecture/2819010\n",
    "\n",
    "# Set up empty lists\n",
    "title = []\n",
    "price = []\n",
    "\n",
    "# Set index counter\n",
    "index = 0\n",
    "\n",
    "# Put title and price in different list\n",
    "# there seems to be a natural 'counting index' in for...in... loop > hence the index+=1\n",
    "for item in data:\n",
    "    \n",
    "    # if '€' in item, put the item before in 'title' and the current item in 'price'\n",
    "    if u'\\xa0\\u20ac' in item:\n",
    "        title.append(data[index-1])\n",
    "        price.append(item)\n",
    "    \n",
    "    index += 1"
   ]
  },
  {
   "cell_type": "code",
   "execution_count": 11,
   "metadata": {
    "collapsed": false
   },
   "outputs": [],
   "source": [
    "title = Series(title)\n",
    "price = Series(price)"
   ]
  },
  {
   "cell_type": "code",
   "execution_count": 12,
   "metadata": {
    "collapsed": true
   },
   "outputs": [],
   "source": [
    "# Concatenate into a DataFrame\n",
    "annonce_df = pd.concat([title,price],axis=1)"
   ]
  },
  {
   "cell_type": "code",
   "execution_count": 13,
   "metadata": {
    "collapsed": false
   },
   "outputs": [],
   "source": [
    "annonce_df.columns = ['Title','Price']"
   ]
  },
  {
   "cell_type": "code",
   "execution_count": 14,
   "metadata": {
    "collapsed": false
   },
   "outputs": [
    {
     "data": {
      "text/plain": [
       "pandas.core.frame.DataFrame"
      ]
     },
     "execution_count": 14,
     "metadata": {},
     "output_type": "execute_result"
    }
   ],
   "source": [
    "type(annonce_df)"
   ]
  },
  {
   "cell_type": "code",
   "execution_count": 15,
   "metadata": {
    "collapsed": false
   },
   "outputs": [
    {
     "name": "stdout",
     "output_type": "stream",
     "text": [
      "<class 'pandas.core.frame.DataFrame'>\n",
      "Int64Index: 36 entries, 0 to 35\n",
      "Data columns (total 2 columns):\n",
      "Title    36 non-null object\n",
      "Price    36 non-null object\n",
      "dtypes: object(2)\n",
      "memory usage: 864.0+ bytes\n"
     ]
    }
   ],
   "source": [
    "annonce_df.info()"
   ]
  },
  {
   "cell_type": "code",
   "execution_count": 16,
   "metadata": {
    "collapsed": false
   },
   "outputs": [
    {
     "data": {
      "text/html": [
       "<div style=\"max-height:1000px;max-width:1500px;overflow:auto;\">\n",
       "<table border=\"1\" class=\"dataframe\">\n",
       "  <thead>\n",
       "    <tr style=\"text-align: right;\">\n",
       "      <th></th>\n",
       "      <th>Title</th>\n",
       "      <th>Price</th>\n",
       "    </tr>\n",
       "  </thead>\n",
       "  <tbody>\n",
       "    <tr>\n",
       "      <th>0</th>\n",
       "      <td>Nikon D300 + Grip MD-D10</td>\n",
       "      <td>540 €</td>\n",
       "    </tr>\n",
       "    <tr>\n",
       "      <th>1</th>\n",
       "      <td>Accro photo occasions bonnes affaires</td>\n",
       "      <td>100 €</td>\n",
       "    </tr>\n",
       "    <tr>\n",
       "      <th>2</th>\n",
       "      <td>Canon eos 7D et Grip</td>\n",
       "      <td>600 €</td>\n",
       "    </tr>\n",
       "    <tr>\n",
       "      <th>3</th>\n",
       "      <td>Location Caméra et matériel photo vidéo</td>\n",
       "      <td>10 €</td>\n",
       "    </tr>\n",
       "    <tr>\n",
       "      <th>4</th>\n",
       "      <td>Objectif canon ef 70-300mm usm is</td>\n",
       "      <td>260 €</td>\n",
       "    </tr>\n",
       "  </tbody>\n",
       "</table>\n",
       "</div>"
      ],
      "text/plain": [
       "                                     Title  Price\n",
       "0                 Nikon D300 + Grip MD-D10  540 €\n",
       "1    Accro photo occasions bonnes affaires  100 €\n",
       "2                     Canon eos 7D et Grip  600 €\n",
       "3  Location Caméra et matériel photo vidéo   10 €\n",
       "4        Objectif canon ef 70-300mm usm is  260 €"
      ]
     },
     "execution_count": 16,
     "metadata": {},
     "output_type": "execute_result"
    }
   ],
   "source": [
    "annonce_df['Price'] = annonce_df['Price'].replace(u'\\xa0', ' ')\n",
    "annonce_df.head(5)"
   ]
  },
  {
   "cell_type": "code",
   "execution_count": 17,
   "metadata": {
    "collapsed": false
   },
   "outputs": [
    {
     "data": {
      "text/plain": [
       "Title    object\n",
       "Price    object\n",
       "dtype: object"
      ]
     },
     "execution_count": 17,
     "metadata": {},
     "output_type": "execute_result"
    }
   ],
   "source": [
    "annonce_df.dtypes"
   ]
  },
  {
   "cell_type": "code",
   "execution_count": 18,
   "metadata": {
    "collapsed": false
   },
   "outputs": [
    {
     "data": {
      "text/html": [
       "<div style=\"max-height:1000px;max-width:1500px;overflow:auto;\">\n",
       "<table border=\"1\" class=\"dataframe\">\n",
       "  <thead>\n",
       "    <tr style=\"text-align: right;\">\n",
       "      <th></th>\n",
       "      <th>Title</th>\n",
       "      <th>Price</th>\n",
       "    </tr>\n",
       "  </thead>\n",
       "  <tbody>\n",
       "    <tr>\n",
       "      <th>0</th>\n",
       "      <td>Nikon D300 + Grip MD-D10</td>\n",
       "      <td>540</td>\n",
       "    </tr>\n",
       "    <tr>\n",
       "      <th>1</th>\n",
       "      <td>Accro photo occasions bonnes affaires</td>\n",
       "      <td>100</td>\n",
       "    </tr>\n",
       "    <tr>\n",
       "      <th>2</th>\n",
       "      <td>Canon eos 7D et Grip</td>\n",
       "      <td>600</td>\n",
       "    </tr>\n",
       "    <tr>\n",
       "      <th>3</th>\n",
       "      <td>Location Caméra et matériel photo vidéo</td>\n",
       "      <td>10</td>\n",
       "    </tr>\n",
       "    <tr>\n",
       "      <th>4</th>\n",
       "      <td>Objectif canon ef 70-300mm usm is</td>\n",
       "      <td>260</td>\n",
       "    </tr>\n",
       "  </tbody>\n",
       "</table>\n",
       "</div>"
      ],
      "text/plain": [
       "                                     Title  Price\n",
       "0                 Nikon D300 + Grip MD-D10    540\n",
       "1    Accro photo occasions bonnes affaires    100\n",
       "2                     Canon eos 7D et Grip    600\n",
       "3  Location Caméra et matériel photo vidéo     10\n",
       "4        Objectif canon ef 70-300mm usm is    260"
      ]
     },
     "execution_count": 18,
     "metadata": {},
     "output_type": "execute_result"
    }
   ],
   "source": [
    "# Replace € and replace white space and then convert to int\n",
    "annonce_df['Price'] = annonce_df['Price'].replace( u'\\u20ac','', regex=True ).replace(' ', '',regex=True).astype(int)\n",
    "annonce_df.head(5)"
   ]
  },
  {
   "cell_type": "code",
   "execution_count": 19,
   "metadata": {
    "collapsed": false
   },
   "outputs": [
    {
     "data": {
      "text/plain": [
       "Title    object\n",
       "Price     int64\n",
       "dtype: object"
      ]
     },
     "execution_count": 19,
     "metadata": {},
     "output_type": "execute_result"
    }
   ],
   "source": [
    "annonce_df.dtypes"
   ]
  },
  {
   "cell_type": "code",
   "execution_count": 20,
   "metadata": {
    "collapsed": false
   },
   "outputs": [
    {
     "data": {
      "text/html": [
       "<div style=\"max-height:1000px;max-width:1500px;overflow:auto;\">\n",
       "<table border=\"1\" class=\"dataframe\">\n",
       "  <thead>\n",
       "    <tr style=\"text-align: right;\">\n",
       "      <th></th>\n",
       "      <th>Price</th>\n",
       "    </tr>\n",
       "  </thead>\n",
       "  <tbody>\n",
       "    <tr>\n",
       "      <th>count</th>\n",
       "      <td>36.000000</td>\n",
       "    </tr>\n",
       "    <tr>\n",
       "      <th>mean</th>\n",
       "      <td>565.444444</td>\n",
       "    </tr>\n",
       "    <tr>\n",
       "      <th>std</th>\n",
       "      <td>532.467488</td>\n",
       "    </tr>\n",
       "    <tr>\n",
       "      <th>min</th>\n",
       "      <td>10.000000</td>\n",
       "    </tr>\n",
       "    <tr>\n",
       "      <th>25%</th>\n",
       "      <td>115.000000</td>\n",
       "    </tr>\n",
       "    <tr>\n",
       "      <th>50%</th>\n",
       "      <td>425.000000</td>\n",
       "    </tr>\n",
       "    <tr>\n",
       "      <th>75%</th>\n",
       "      <td>812.500000</td>\n",
       "    </tr>\n",
       "    <tr>\n",
       "      <th>max</th>\n",
       "      <td>1900.000000</td>\n",
       "    </tr>\n",
       "  </tbody>\n",
       "</table>\n",
       "</div>"
      ],
      "text/plain": [
       "             Price\n",
       "count    36.000000\n",
       "mean    565.444444\n",
       "std     532.467488\n",
       "min      10.000000\n",
       "25%     115.000000\n",
       "50%     425.000000\n",
       "75%     812.500000\n",
       "max    1900.000000"
      ]
     },
     "execution_count": 20,
     "metadata": {},
     "output_type": "execute_result"
    }
   ],
   "source": [
    "annonce_df.describe()"
   ]
  },
  {
   "cell_type": "code",
   "execution_count": 21,
   "metadata": {
    "collapsed": false
   },
   "outputs": [
    {
     "data": {
      "text/html": [
       "<div style=\"max-height:1000px;max-width:1500px;overflow:auto;\">\n",
       "<table border=\"1\" class=\"dataframe\">\n",
       "  <thead>\n",
       "    <tr style=\"text-align: right;\">\n",
       "      <th></th>\n",
       "      <th>Title</th>\n",
       "      <th>Price</th>\n",
       "      <th>Price Cat</th>\n",
       "    </tr>\n",
       "  </thead>\n",
       "  <tbody>\n",
       "    <tr>\n",
       "      <th>0</th>\n",
       "      <td>Nikon D300 + Grip MD-D10</td>\n",
       "      <td>540</td>\n",
       "      <td>501 - 1000</td>\n",
       "    </tr>\n",
       "    <tr>\n",
       "      <th>1</th>\n",
       "      <td>Accro photo occasions bonnes affaires</td>\n",
       "      <td>100</td>\n",
       "      <td>0 - 500</td>\n",
       "    </tr>\n",
       "    <tr>\n",
       "      <th>2</th>\n",
       "      <td>Canon eos 7D et Grip</td>\n",
       "      <td>600</td>\n",
       "      <td>501 - 1000</td>\n",
       "    </tr>\n",
       "    <tr>\n",
       "      <th>3</th>\n",
       "      <td>Location Caméra et matériel photo vidéo</td>\n",
       "      <td>10</td>\n",
       "      <td>0 - 500</td>\n",
       "    </tr>\n",
       "    <tr>\n",
       "      <th>4</th>\n",
       "      <td>Objectif canon ef 70-300mm usm is</td>\n",
       "      <td>260</td>\n",
       "      <td>0 - 500</td>\n",
       "    </tr>\n",
       "  </tbody>\n",
       "</table>\n",
       "</div>"
      ],
      "text/plain": [
       "                                     Title  Price   Price Cat\n",
       "0                 Nikon D300 + Grip MD-D10    540  501 - 1000\n",
       "1    Accro photo occasions bonnes affaires    100     0 - 500\n",
       "2                     Canon eos 7D et Grip    600  501 - 1000\n",
       "3  Location Caméra et matériel photo vidéo     10     0 - 500\n",
       "4        Objectif canon ef 70-300mm usm is    260     0 - 500"
      ]
     },
     "execution_count": 21,
     "metadata": {},
     "output_type": "execute_result"
    }
   ],
   "source": [
    "def cat_500(price):\n",
    "    if 0 <= price <= 500:\n",
    "        return '0 - 500'\n",
    "    if 501 <= price <= 1000:\n",
    "        return '501 - 1000'\n",
    "    if 1001 <= price <= 1500:\n",
    "        return '1001 - 1500'\n",
    "    if 1501 <= price:\n",
    "        return 'Over 1500'\n",
    "    \n",
    "annonce_df['Price Cat'] = annonce_df['Price'].apply(cat_500).astype(str)\n",
    "annonce_df.head()"
   ]
  },
  {
   "cell_type": "code",
   "execution_count": 22,
   "metadata": {
    "collapsed": false
   },
   "outputs": [
    {
     "data": {
      "text/plain": [
       "Title        object\n",
       "Price         int64\n",
       "Price Cat    object\n",
       "dtype: object"
      ]
     },
     "execution_count": 22,
     "metadata": {},
     "output_type": "execute_result"
    }
   ],
   "source": [
    "annonce_df.dtypes"
   ]
  },
  {
   "cell_type": "markdown",
   "metadata": {},
   "source": [
    "####Cleaned DF"
   ]
  },
  {
   "cell_type": "code",
   "execution_count": 86,
   "metadata": {
    "collapsed": false
   },
   "outputs": [
    {
     "data": {
      "text/html": [
       "<div style=\"max-height:1000px;max-width:1500px;overflow:auto;\">\n",
       "<table border=\"1\" class=\"dataframe\">\n",
       "  <thead>\n",
       "    <tr style=\"text-align: right;\">\n",
       "      <th></th>\n",
       "      <th>Title</th>\n",
       "      <th>Price</th>\n",
       "      <th>Price Cat</th>\n",
       "    </tr>\n",
       "  </thead>\n",
       "  <tbody>\n",
       "    <tr>\n",
       "      <th>2</th>\n",
       "      <td>Canon eos 7D et Grip</td>\n",
       "      <td>600</td>\n",
       "      <td>501 - 1000</td>\n",
       "    </tr>\n",
       "    <tr>\n",
       "      <th>7</th>\n",
       "      <td>Canon EOS 7d + 2 objectifs + garantie</td>\n",
       "      <td>1099</td>\n",
       "      <td>1001 - 1500</td>\n",
       "    </tr>\n",
       "    <tr>\n",
       "      <th>9</th>\n",
       "      <td>Canon 7d mkii objectif 10-18 et 24-70</td>\n",
       "      <td>1900</td>\n",
       "      <td>Over 1500</td>\n",
       "    </tr>\n",
       "    <tr>\n",
       "      <th>10</th>\n",
       "      <td>Canon eos 7D</td>\n",
       "      <td>1000</td>\n",
       "      <td>501 - 1000</td>\n",
       "    </tr>\n",
       "    <tr>\n",
       "      <th>11</th>\n",
       "      <td>Canon 7d + 18-55mm + 17-55mm</td>\n",
       "      <td>350</td>\n",
       "      <td>0 - 500</td>\n",
       "    </tr>\n",
       "  </tbody>\n",
       "</table>\n",
       "</div>"
      ],
      "text/plain": [
       "                                    Title  Price    Price Cat\n",
       "2                    Canon eos 7D et Grip    600   501 - 1000\n",
       "7   Canon EOS 7d + 2 objectifs + garantie   1099  1001 - 1500\n",
       "9   Canon 7d mkii objectif 10-18 et 24-70   1900    Over 1500\n",
       "10                           Canon eos 7D   1000   501 - 1000\n",
       "11           Canon 7d + 18-55mm + 17-55mm    350      0 - 500"
      ]
     },
     "execution_count": 86,
     "metadata": {},
     "output_type": "execute_result"
    }
   ],
   "source": [
    "cleaned_df = annonce_df[annonce_df['Title'].str.contains('(7D|7d)', regex=True)]\n",
    "cleaned_df.head()"
   ]
  },
  {
   "cell_type": "code",
   "execution_count": 87,
   "metadata": {
    "collapsed": false
   },
   "outputs": [
    {
     "data": {
      "text/html": [
       "<div style=\"max-height:1000px;max-width:1500px;overflow:auto;\">\n",
       "<table border=\"1\" class=\"dataframe\">\n",
       "  <thead>\n",
       "    <tr style=\"text-align: right;\">\n",
       "      <th></th>\n",
       "      <th>Price</th>\n",
       "    </tr>\n",
       "  </thead>\n",
       "  <tbody>\n",
       "    <tr>\n",
       "      <th>count</th>\n",
       "      <td>16.000000</td>\n",
       "    </tr>\n",
       "    <tr>\n",
       "      <th>mean</th>\n",
       "      <td>981.187500</td>\n",
       "    </tr>\n",
       "    <tr>\n",
       "      <th>std</th>\n",
       "      <td>519.457309</td>\n",
       "    </tr>\n",
       "    <tr>\n",
       "      <th>min</th>\n",
       "      <td>250.000000</td>\n",
       "    </tr>\n",
       "    <tr>\n",
       "      <th>25%</th>\n",
       "      <td>597.500000</td>\n",
       "    </tr>\n",
       "    <tr>\n",
       "      <th>50%</th>\n",
       "      <td>925.000000</td>\n",
       "    </tr>\n",
       "    <tr>\n",
       "      <th>75%</th>\n",
       "      <td>1145.000000</td>\n",
       "    </tr>\n",
       "    <tr>\n",
       "      <th>max</th>\n",
       "      <td>1900.000000</td>\n",
       "    </tr>\n",
       "  </tbody>\n",
       "</table>\n",
       "</div>"
      ],
      "text/plain": [
       "             Price\n",
       "count    16.000000\n",
       "mean    981.187500\n",
       "std     519.457309\n",
       "min     250.000000\n",
       "25%     597.500000\n",
       "50%     925.000000\n",
       "75%    1145.000000\n",
       "max    1900.000000"
      ]
     },
     "execution_count": 87,
     "metadata": {},
     "output_type": "execute_result"
    }
   ],
   "source": [
    "cleaned_df.describe()"
   ]
  },
  {
   "cell_type": "code",
   "execution_count": 88,
   "metadata": {
    "collapsed": true
   },
   "outputs": [],
   "source": [
    "# Let's import what we'll need for the analysis and visualization\n",
    "import numpy as np\n",
    "import matplotlib.pyplot as plt\n",
    "import seaborn as sns\n",
    "%matplotlib inline"
   ]
  },
  {
   "cell_type": "markdown",
   "metadata": {},
   "source": [
    "[Box and whisker plot | Descriptive statistics | Probability and Statistics](https://www.youtube.com/watch?v=b2C9I8HuCe4&feature=youtu.be)"
   ]
  },
  {
   "cell_type": "code",
   "execution_count": 89,
   "metadata": {
    "collapsed": false
   },
   "outputs": [
    {
     "data": {
      "text/plain": [
       "<matplotlib.axes._subplots.AxesSubplot at 0x117b412d0>"
      ]
     },
     "execution_count": 89,
     "metadata": {},
     "output_type": "execute_result"
    },
    {
     "data": {
      "image/png": "[encoded data removed]",
      "text/plain": [
       "<matplotlib.figure.Figure at 0x117b28310>"
      ]
     },
     "metadata": {},
     "output_type": "display_data"
    }
   ],
   "source": [
    "sns.set_style(\"whitegrid\")\n",
    "sns.boxplot(x='Price', data=cleaned_df)"
   ]
  },
  {
   "cell_type": "markdown",
   "metadata": {},
   "source": [
    "---\n",
    "**Areas of improvements**\n",
    "- ~~change prices into integer~~\n",
    "- Remove wrong 'annonces' and 'annonces' that sell also lenses\n",
    "- add publishing dates of the 'annonce'"
   ]
  },
  {
   "cell_type": "code",
   "execution_count": null,
   "metadata": {
    "collapsed": true
   },
   "outputs": [],
   "source": []
  }
 ],
 "metadata": {
  "kernelspec": {
   "display_name": "Python 2",
   "language": "python",
   "name": "python2"
  },
  "language_info": {
   "codemirror_mode": {
    "name": "ipython",
    "version": 2
   },
   "file_extension": ".py",
   "mimetype": "text/x-python",
   "name": "python",
   "nbconvert_exporter": "python",
   "pygments_lexer": "ipython2",
   "version": "2.7.9"
  }
 },
 "nbformat": 4,
 "nbformat_minor": 0
}
